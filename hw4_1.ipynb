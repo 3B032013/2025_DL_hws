{
  "nbformat": 4,
  "nbformat_minor": 0,
  "metadata": {
    "colab": {
      "provenance": [],
      "gpuType": "T4",
      "authorship_tag": "ABX9TyPRTKcteNzwmKMW+ZQ/0pLd",
      "include_colab_link": true
    },
    "kernelspec": {
      "name": "python3",
      "display_name": "Python 3"
    },
    "language_info": {
      "name": "python"
    },
    "accelerator": "GPU",
    "widgets": {
      "application/vnd.jupyter.widget-state+json": {
        "19748b2915614086836fc62f76ef5666": {
          "model_module": "@jupyter-widgets/controls",
          "model_name": "VBoxModel",
          "model_module_version": "1.5.0",
          "state": {
            "_dom_classes": [
              "widget-interact"
            ],
            "_model_module": "@jupyter-widgets/controls",
            "_model_module_version": "1.5.0",
            "_model_name": "VBoxModel",
            "_view_count": null,
            "_view_module": "@jupyter-widgets/controls",
            "_view_module_version": "1.5.0",
            "_view_name": "VBoxView",
            "box_style": "",
            "children": [
              "IPY_MODEL_6a93d862c08747338f2689e3f9b03188",
              "IPY_MODEL_bc3feb5bd86f47839ea91f04c5ecd452",
              "IPY_MODEL_ad1e05ed5ac5418ba0cc33e3d80e11bd"
            ],
            "layout": "IPY_MODEL_0b4aca4e51e04a63bd0c47284837734b"
          }
        },
        "6a93d862c08747338f2689e3f9b03188": {
          "model_module": "@jupyter-widgets/controls",
          "model_name": "IntSliderModel",
          "model_module_version": "1.5.0",
          "state": {
            "_dom_classes": [],
            "_model_module": "@jupyter-widgets/controls",
            "_model_module_version": "1.5.0",
            "_model_name": "IntSliderModel",
            "_view_count": null,
            "_view_module": "@jupyter-widgets/controls",
            "_view_module_version": "1.5.0",
            "_view_name": "IntSliderView",
            "continuous_update": true,
            "description": "test",
            "description_tooltip": null,
            "disabled": false,
            "layout": "IPY_MODEL_8e9978b8de844deb8acd6fe85a907a62",
            "max": 9999,
            "min": 0,
            "orientation": "horizontal",
            "readout": true,
            "readout_format": "d",
            "step": 1,
            "style": "IPY_MODEL_f2c229114aa04aa599662a8be99771be",
            "value": 2867
          }
        },
        "bc3feb5bd86f47839ea91f04c5ecd452": {
          "model_module": "@jupyter-widgets/controls",
          "model_name": "ButtonModel",
          "model_module_version": "1.5.0",
          "state": {
            "_dom_classes": [],
            "_model_module": "@jupyter-widgets/controls",
            "_model_module_version": "1.5.0",
            "_model_name": "ButtonModel",
            "_view_count": null,
            "_view_module": "@jupyter-widgets/controls",
            "_view_module_version": "1.5.0",
            "_view_name": "ButtonView",
            "button_style": "",
            "description": "Run Interact",
            "disabled": false,
            "icon": "",
            "layout": "IPY_MODEL_8716be0906a04335bdd3e70175695dc3",
            "style": "IPY_MODEL_0d27a052bbc546febecb52736ebaa959",
            "tooltip": ""
          }
        },
        "ad1e05ed5ac5418ba0cc33e3d80e11bd": {
          "model_module": "@jupyter-widgets/output",
          "model_name": "OutputModel",
          "model_module_version": "1.0.0",
          "state": {
            "_dom_classes": [],
            "_model_module": "@jupyter-widgets/output",
            "_model_module_version": "1.0.0",
            "_model_name": "OutputModel",
            "_view_count": null,
            "_view_module": "@jupyter-widgets/output",
            "_view_module_version": "1.0.0",
            "_view_name": "OutputView",
            "layout": "IPY_MODEL_b7103148861846249bc236d1c17fb0a0",
            "msg_id": "",
            "outputs": [
              {
                "output_type": "stream",
                "name": "stdout",
                "text": [
                  "神經網路判斷為： cat\n"
                ]
              },
              {
                "output_type": "display_data",
                "data": {
                  "text/plain": "<Figure size 640x480 with 1 Axes>",
                  "image/png": "iVBORw0KGgoAAAANSUhEUgAAAaAAAAGdCAYAAABU0qcqAAAAOnRFWHRTb2Z0d2FyZQBNYXRwbG90bGliIHZlcnNpb24zLjEwLjAsIGh0dHBzOi8vbWF0cGxvdGxpYi5vcmcvlHJYcgAAAAlwSFlzAAAPYQAAD2EBqD+naQAAL8NJREFUeJzt3X1snfV5//HPOcfnHD8fx3H8RJyQ8JCUhmRqBqlFm1GSkWQSghJN0FZa6BAI5qBB1rXN1EJhm8yo1NJWadBPY2T9qYGWqQGBVhiExqhbwpaM/FJo6yUhkKSxnRDw0zk+j/f9+4PhzZDA90rsfG3n/aqOROyrl7/307l82+d8HAnDMBQAAOdY1PcCAADnJwYQAMALBhAAwAsGEADACwYQAMALBhAAwAsGEADACwYQAMCLMt8L+KAgCHTs2DHV1NQoEon4Xg4AwCgMQw0NDam1tVXR6OnvcybdADp27Jja2tp8LwMAcJaOHDmi2bNnn/bzEzaANm3apG9/+9vq7e3VkiVL9IMf/EBXXnnlx/7/ampqJEn3rL9TyWTS6WvlMoPO66qvn+FcK0knTr7rXNt74ripd8OsRufamlSNqXdPX59zbVVllal3a1OTbS29J5xro2UxU+/6+mrn2lgkMPU23X+Htp9m5/MlU73rtSBJxWLR1DsI3PeLNbirUMw718bKEqbeyaR7/eCg+3OEJMXjcVP9LMO1nMumTb2LBfd9aP2pUXpwyH0d+YJzbS6f1w/+z/8dfT4/nQkZQD/5yU+0YcMGPfLII1q2bJkefvhhrVq1St3d3Wps/OgD9f4OTCaTKne96EruJ2J5ufuF/N463HtbT1pLb8sTkCQlEpbetgu/vLzcVG/pHy2znZKW4zmZBlA0OpEDyDbEJ3IARQvue7Esbh1A7vskl8uZeluv5YoK92siItuxL8bc96F1ABVzhm8QzuBXIh+3ngl5EcJ3vvMd3Xbbbfryl7+syy67TI888ogqKyv1D//wDxPx5QAAU9C4D6B8Pq89e/Zo5cqV//NFolGtXLlSO3fu/FB9LpfT4ODgmAcAYPob9wH09ttvq1QqqekDvydoampSb2/vh+o7OzuVSqVGH7wAAQDOD97fB7Rx40YNDAyMPo4cOeJ7SQCAc2DcX4TQ0NCgWCymvg+8Cquvr0/Nzc0fqk8mk+ZfsAMApr5xvwNKJBJaunSptm/fPvqxIAi0fft2tbe3j/eXAwBMURPyMuwNGzZo3bp1+v3f/31deeWVevjhh5VOp/XlL395Ir4cAGAKmpABdNNNN+nEiRO699571dvbq9/7vd/Tc88996EXJgAAzl8TloSwfv16rV+//swbhCWFodsbtqJR9zdIFQq2N6SVAvd3/0Zjtp9oDmfc3xFdVe3+jn9JKo+5H9qRYds7szPZEVN9ELq/0TFp3Idxw7FPJGxv0Dze9+FXbZ7OW4cOm3rPnXeJqb4s7r72yqoKU+/YR2R1fVCh4H49SFJ56P4GzWLJ9kbHoSH3d/FnhoZNvZsaG0z1yhueV0q2pIpiyf2Nqx+Vu3YqljfcRg1vzQ4c37Ds/VVwAIDzEwMIAOAFAwgA4AUDCADgBQMIAOAFAwgA4AUDCADgBQMIAOAFAwgA4AUDCADgxYRF8ZytbHbEOYonk3b/K6qJpC2OxRJrUmWMKSm5J9SoVLTFdyTjCefaTCZj6j0yYoviiRtiZKorbX+ao5h3/5v26UHbdu765W7n2rdPvGPqPbOhxVRfWVXlXBsE7vEq79W710YM0UeSVBZx/x63GLhHzkhSLu9+PKNR2/VTyNr+MvOx/h7n2plNrabeMUOsVrzM9pQedYzMkaR0zv1aCx1PKu6AAABeMIAAAF4wgAAAXjCAAABeMIAAAF4wgAAAXjCAAABeMIAAAF4wgAAAXjCAAABeMIAAAF5M2iy4RDyhRNwtFywTus/RfN4QfCWpvNw9m6y6wj03TpKGRnLuxVFbhl0k7p4HFsiW7zUwOGSqT1WUu6+laNgnkkLDGXxg3+um3j3733KuTYeGUC1Jb7xx0FQ/q7HBubZkW4oihsMfL7OdKwrdr7egaMsYVOBeHxTcc8wk6Y3/cs92k6Shd4851356ea2ptxLu9XnjdiYS7s8TsaR7bVRkwQEAJjEGEADACwYQAMALBhAAwAsGEADACwYQAMALBhAAwAsGEADACwYQAMALBhAAwItJG8Uzo36mysvdIlzihjiJgYF3TeuIxd13UcwYlxM11A8O2eJv6uvrnWsrRmwRKLmcLS4nn3SPM4pHbVEvhVzWufZ3Pb8z9Q7DonNtsVgw9c4MD5jq4zH37xWrqipNvQO5Z/fkMsOm3vEy93O8MGLrPdTzhnNtfihj6n2g+6ipvnLmDOfabGA7x2Ml9/MwGrXdU2QN13LesI6CYy13QAAALxhAAAAvGEAAAC8YQAAALxhAAAAvGEAAAC8YQAAALxhAAAAvGEAAAC8YQAAALxhAAAAvJm0WXCaXVRBxy6gqSyac+yYrbTlZ8XL33tG4eyadJGXyJedaS2aTJCUS7utOpVKm3keP2nKyyqsrnGtnNbhn2EnSW/t/61w7MNxv6p2PuOe7lZfZvpcrC0zlOnbEfZ+/ediWeRczZCnOrKsx9U7Vutcny2wZaVUx9+NzsvdNU++Bd94x1UdmzHSuzYe2p91Eyf15wpoFVyi478MwcD9pw8DtuZs7IACAF+M+gL71rW8pEomMeSxcuHC8vwwAYIqbkB/BffKTn9SLL774P1+kbNL+pA8A4MmETIaysjI1NzdPRGsAwDQxIb8D2r9/v1pbWzV//nx96Utf0uHDh09bm8vlNDg4OOYBAJj+xn0ALVu2TFu2bNFzzz2nzZs369ChQ/rsZz+rodP8Rc/Ozk6lUqnRR1tb23gvCQAwCY37AFqzZo3++I//WIsXL9aqVav0z//8z+rv79dPf/rTU9Zv3LhRAwMDo48jR46M95IAAJPQhL86oK6uTpdeeqkOHDhwys8nk0klk8mJXgYAYJKZ8PcBDQ8P6+DBg2ppaZnoLwUAmELGfQB95StfUVdXl958803927/9mz7/+c8rFovpC1/4wnh/KQDAFDbuP4I7evSovvCFL+jkyZOaNWuWPvOZz2jXrl2aNWuWqU8mO6JS6Bb9UF1T5dzXEq0jSemREefaVF2dqXc8k3eu7e3rM/WeMWOGc631R6CRiC0yJTt4wrm2qsY9dkSS5le6n8KHmtz3iST9Ztj9FZnlkXJT7+PHekz1R3vdj38QtV3WlvO2pck9ckaS5s11f1HRrPpaU+8g7n7dn8zb9km6ZKufXel+DUUD9+tekoqG6B7rtRkY4nUymYxzbS7nto3jPoCeeOKJ8W4JAJiGyIIDAHjBAAIAeMEAAgB4wQACAHjBAAIAeMEAAgB4wQACAHjBAAIAeMEAAgB4wQACAHgx4X+O4UwF//0/F/FE3L1vUDStIzuSdq6N2mKYdOHcC5xrizn3dUjSGwdP/ecvTqWqvNLUO3vSlmOWHXHf5xUNl5h6pwzRfpc315t69/cecy+OxUy9K6pt2XGxigrn2kzBdiLW1rvvl5n1tjy9Q2+86Vzb2+ue7SZJ9fV1zrUVM92vNUm6NGVL7198+Seda2PG54lCEDrXhqF7rSRFo37vQbgDAgB4wQACAHjBAAIAeMEAAgB4wQACAHjBAAIAeMEAAgB4wQACAHjBAAIAeMEAAgB4MWmjePKFvCKO47FYzDv3rSg3ZLdIikVqnWsH+t819e7tOeJc++4JQyyMpEI641ybL9hifi5M2WJnFs5tcK4NsoOm3offOupcWxUUTL0XzZnlXFs+y71WkiorbOfhO/3DzrUDBdv3lUXD4YzHjb0Ntf/v9f2m3rNbmpxr48b8m9Y2WxRPy5y5zrUjOffnK0nKDbtfn+XlNabekYj7fsnlcs610ajbScUdEADACwYQAMALBhAAwAsGEADACwYQAMALBhAAwAsGEADACwYQAMALBhAAwAsGEADACwYQAMCLSZsFF1WoqEKn2sywe35Y1riONw4ecK4tFNyzkiTJEksXyQ2Yel/U4p6/ljFkTUlSImZJ+JJy6X7n2t63T5h6jwy4H/t43Ja/VmXIa2tumGnqnR0eMtUXhgz10QpT7yDu/jSQGXHPGJSkioqkc601H2942P2aqDD2Pvy735nqGy5oc66tr7edK9Go+31CEASm3uXl5c61sZh7aGAs5rZm7oAAAF4wgAAAXjCAAABeMIAAAF4wgAAAXjCAAABeMIAAAF4wgAAAXjCAAABeMIAAAF4wgAAAXkzaLLi3+3qVSMSdanPZEee+8TL3PCNJOnG8z7m2ZVa9qXd53j2Dra7KdqiiJfd9MjgybOrd+457/poklYbd115jyA6TpIqaWufazIgtCTCScF9LsWjL4Dp69IipPp93z9+LVRiz4HLu+6Wh5QJT7/oLG51rF86/0NT7mGEf9h3vNfUumKql3p6jzrW1hnNWsuW1DQ/brmVLdlwYumVzWmq5AwIAeGEeQC+//LKuu+46tba2KhKJ6Kmnnhrz+TAMde+996qlpUUVFRVauXKl9u/fP17rBQBME+YBlE6ntWTJEm3atOmUn3/ooYf0/e9/X4888oheeeUVVVVVadWqVcpmrX8IAQAwnZl/B7RmzRqtWbPmlJ8Lw1APP/ywvvGNb+j666+XJP3oRz9SU1OTnnrqKd18881nt1oAwLQxrr8DOnTokHp7e7Vy5crRj6VSKS1btkw7d+485f8nl8tpcHBwzAMAMP2N6wDq7X3vlSZNTU1jPt7U1DT6uQ/q7OxUKpUafbS1uf9lQQDA1OX9VXAbN27UwMDA6OPIEdvLUwEAU9O4DqDm5mZJUl/f2PfO9PX1jX7ug5LJpGpra8c8AADT37gOoHnz5qm5uVnbt28f/djg4KBeeeUVtbe3j+eXAgBMceZXwQ0PD+vAgQOj/z506JD27t2r+vp6zZkzR3fffbf+5m/+RpdcconmzZunb37zm2ptbdUNN9wwnusGAExx5gG0e/dufe5znxv994YNGyRJ69at05YtW/TVr35V6XRat99+u/r7+/WZz3xGzz33nClOQpJOnDiueJnb8mbUpZz75rIZ0zpmNc50ro2V3ONSJCnT5x7zU5Gy7b+cIs61BduyVSi6R3JIUqbofpqFGVukjaIl59KCbdnKZdzjjMJ3+029syXjYmIJ97WYt9M9vmVk2PYq1bq5c91rWxtMvVvqq5xrf9tt+2HPm0d/Z6p/t8+9/pgxKqlt7nzn2mJgO/jpkZxzbcEQN+X6HGEeQFdfffVH5vxEIhE98MADeuCBB6ytAQDnEe+vggMAnJ8YQAAALxhAAAAvGEAAAC8YQAAALxhAAAAvGEAAAC8YQAAALxhAAAAvGEAAAC/MUTznSnVFleJxx+UZwq+KxYJpHRUR9wyugf6Tpt6VRfccs3TelpGWDt0D3qz5UYVc3lR/Ip11rq2MuWfYSVKyMuZcO1Jwz3aTpMoZ7jmAM5pbTb2H8+7HXpIOHDjqXFuTsmWN1c1w/xMov+t5y9T7dH+I8lTmXND08UX/y2WXXeZcm8u6Z55JUtaQAyhJgdyvibcO7jf1rknVOdcmq9xzMSWpFFgyI92vY9fcOO6AAABeMIAAAF4wgAAAXjCAAABeMIAAAF4wgAAAXjCAAABeMIAAAF4wgAAAXjCAAABeTNoonlJYVNQxIaZoiM3IZYZM6yhkhp1r4yX3qApJqqgtd64dztmiRE4OG2IzjDE/sZItumdmwv37nEpDrSSVx9zXUl1tiykZCNzX8sr/6zb1zhVsUTwjYdy5dui4LRLqU60XO9dGirYYpuO97mvZP/iOqXdNdY1zbV/fcVPvkycHTPXxiirn2lLGeC2/fcK5tiHmHh0mSaHco6wyaffnznze7TzhDggA4AUDCADgBQMIAOAFAwgA4AUDCADgBQMIAOAFAwgA4AUDCADgBQMIAOAFAwgA4AUDCADgxaTNghvJZlQsuuUURUP3XK1SwZbDlMu658xVGXPMTubcc7UGM0VT77QlssuY7ZYqt+VNRaMR59qgaNtOGTLVKqrds/ck6UTaPU/vt/t7TL1VZtuHsdA9syufTpt6p4czzrXxiO0pIxF1X7f12+G+Hvd9XirazvF8wVY/mDVkRiYM+0RSMW/IuhyxHfuSIe8wN+J+nuTzBac67oAAAF4wgAAAXjCAAABeMIAAAF4wgAAAXjCAAABeMIAAAF4wgAAAXjCAAABeMIAAAF5M3iiedFqFMsfICkN8S5i3RfEEhuieIOseCyNJOUNMSTawHaoRwz4p5dwjZySpqsy2nZHyKufaMBo39VbEfS3FvCWfSKqrrnauvWBWnal3vhSY6pNlFc61pdpKU+8wcI+dKQXusUqSVFHhvg9zeVuMTP877zrXxoznVb7gFiXzvpIhoujS+fNNvRsaGp1rC8bzKp93v/ZjUfferrXcAQEAvGAAAQC8MA+gl19+Wdddd51aW1sViUT01FNPjfn8LbfcokgkMuaxevXq8VovAGCaMA+gdDqtJUuWaNOmTaetWb16tXp6ekYfjz/++FktEgAw/ZhfhLBmzRqtWbPmI2uSyaSam5vPeFEAgOlvQn4HtGPHDjU2NmrBggW68847dfLkydPW5nI5DQ4OjnkAAKa/cR9Aq1ev1o9+9CNt375df/d3f6euri6tWbNGpdKpXy7b2dmpVCo1+mhraxvvJQEAJqFxfx/QzTffPPrfl19+uRYvXqyLLrpIO3bs0IoVKz5Uv3HjRm3YsGH034ODgwwhADgPTPjLsOfPn6+GhgYdOHDglJ9PJpOqra0d8wAATH8TPoCOHj2qkydPqqWlZaK/FABgCjH/CG54eHjM3cyhQ4e0d+9e1dfXq76+Xvfff7/Wrl2r5uZmHTx4UF/96ld18cUXa9WqVeO6cADA1GYeQLt379bnPve50X+///ubdevWafPmzdq3b5/+8R//Uf39/WptbdW1116rv/7rv1YymTR9nUi+oIhjrlEhZ8kDc89Ik6RYzD37Kh/YcphKEfcb0IG8LZvq3Yx7xlNl1JbtVmXI95KkynL3fRiEtuNTiLqfwsWCLcesGLhnx10ww5a/NjI0ZKpvmOXev7I2Zeo9nBlxLw5sPzTJR9yPZ1W5e96dJA0azvGsbBmQCm3XxIUXznWunXfxPFPvXNE9qy8sude+939w34fl5e7HMhp1qzUPoKuvvlphePqNfP75560tAQDnIbLgAABeMIAAAF4wgAAAXjCAAABeMIAAAF4wgAAAXjCAAABeMIAAAF4wgAAAXjCAAABejPvfAxovpVJWEcf5WJ6MO/fNFG2ZUIlEzLk2Kvd1SNLgoPtaBtPuuWTvr8ZVdVW5qXOVsT4ac8+nKhVteW35gntmVyy09R4w/HXefGj7Xi5qyLCTpBNvv+Nc22TMVFPEfb8UCrbrp6a6yr133naOm677tHvmmSSlam15hwsWXOxcW1Npy8XMZtz3+ciI7fgUiwPOtZG4+7VWcszc5A4IAOAFAwgA4AUDCADgBQMIAOAFAwgA4AUDCADgBQMIAOAFAwgA4AUDCADgBQMIAODFpI3iCQp5BYHbfEyUu29GWOEerSNJxXzBuTYWt0XUjBQD59pCyT3ORpIqyxPOteVxW4RQIm7bh6HcYjkkKYzaehdK7sdHEds+jBq+P0sPpk2965uaTPURua/9jbeOmHrPvuAC59qRkRFT72RVjXNtRbktoiaddY+dKTN+q500nuMK3GNqgpL79SBJyYT781s2Yzs+oeH6qax2f36LRdx2OHdAAAAvGEAAAC8YQAAALxhAAAAvGEAAAC8YQAAALxhAAAAvGEAAAC8YQAAALxhAAAAvGEAAAC8mbRZcIR8ocIxjKubds5XKZMt4yhuy4CzZbpKUN5THjBlpiZh7fTS0ZaRZcskkKTDUB8btjAbuvUfSWVPvRKLSubYiYTv2v+s7aaqvqqt1ri2Ftu8rsyPumWoNMxtMvfvfPuFc29gw09S7trrCuXak5J7VJkklaxRc0f05aHBwyNQ7EnHPaswXbddm0XCuFCagljsgAIAXDCAAgBcMIACAFwwgAIAXDCAAgBcMIACAFwwgAIAXDCAAgBcMIACAFwwgAIAXkzaKJxKJKBKJONVG3VMwVCzYIlNCwy4aytniPrKGtcyscY8dkSQF7mspyj3qQ5IKJbfj8r6I3A9QYIxKShriQSKh7XTP5dxjmIKo7Xu5dzPuvSVpuNjvXDujMmHqnRtyj+JpnDvP1NsSURQJDBeypPo696ikoZERU++8JSdLUiabdq4tC8tNvYOie4TU8FDG1DsScd9OS2JXvuB2LLkDAgB4YRpAnZ2duuKKK1RTU6PGxkbdcMMN6u7uHlOTzWbV0dGhmTNnqrq6WmvXrlVfX9+4LhoAMPWZBlBXV5c6Ojq0a9cuvfDCCyoUCrr22muVTv/P7ec999yjZ555Rk8++aS6urp07Ngx3XjjjeO+cADA1Gb6ofhzzz035t9btmxRY2Oj9uzZo+XLl2tgYECPPvqotm7dqmuuuUaS9Nhjj+kTn/iEdu3apU9/+tPjt3IAwJR2Vr8DGhgYkCTV19dLkvbs2aNCoaCVK1eO1ixcuFBz5szRzp07T9kjl8tpcHBwzAMAMP2d8QAKgkB33323rrrqKi1atEiS1Nvbq0Qiobq6ujG1TU1N6u3tPWWfzs5OpVKp0UdbW9uZLgkAMIWc8QDq6OjQa6+9pieeeOKsFrBx40YNDAyMPo4cOXJW/QAAU8MZvQ9o/fr1evbZZ/Xyyy9r9uzZox9vbm5WPp9Xf3//mLugvr4+NTc3n7JXMplUMpk8k2UAAKYw0x1QGIZav369tm3bppdeeknz5o19U9rSpUsVj8e1ffv20Y91d3fr8OHDam9vH58VAwCmBdMdUEdHh7Zu3aqnn35aNTU1o7/XSaVSqqioUCqV0q233qoNGzaovr5etbW1uuuuu9Te3s4r4AAAY5gG0ObNmyVJV1999ZiPP/bYY7rlllskSd/97ncVjUa1du1a5XI5rVq1Sj/84Q/HZbEAgOnDNIBChzCg8vJybdq0SZs2bTrjRUlSqiyuspjbTwjDXN65bxDacsxyRfespHTWlu8Vi7rnniXitoy0oWH3fK/QsA5JGszZcrKqy9xDpKJyP5aSFBjy3cKYbTstWX0DaVvWWJVs5+Gs2mrn2njUlkkYLblnsA0PvmvqXVHhnjMYM2b1DafdM9KiMu4TxxzK90UMv80wtlaZ4fqRcTuLRffFZNLuvQsFt1qy4AAAXjCAAABeMIAAAF4wgAAAXjCAAABeMIAAAF4wgAAAXjCAAABeMIAAAF4wgAAAXpzRn2M4F8oluYZ45B0jeyQp4xgR8b6hrHukTc7YOxl33/3pdMbUe8SwlkxgW/exflvsTHO1e9xHXJbYESkiQyxQ1Ha6jxiWkg9s666O2eKMGsrd+1em3GN7JCmddo+Qeuf470y9a1PlzrVlEffYHkkqltz3YZkthUmxou14Wk7DovF5ImK4JpLJClPv4SH3OKNY1HC/ErrVcgcEAPCCAQQA8IIBBADwggEEAPCCAQQA8IIBBADwggEEAPCCAQQA8IIBBADwggEEAPCCAQQA8GLSZsEpHpUcM94yhry2dzPu2UeSlDVkQkWjxsCp0L33iGEbJSkfuK8lV7JlU/W+mzbVB0X3PDBL7pUkBUHeubYsbjs+kdA94CthDBtra24w1V88370+krCtZXDA/dxKDwyYepcZzvH+flvveNI9O66q0v0clKR0yT0fT5IKOffzsDyesvUuul+f0YjtniIScV93Iuk+LlyXwR0QAMALBhAAwAsGEADACwYQAMALBhAAwAsGEADACwYQAMALBhAAwAsGEADACwYQAMCLSRvFkymFKnOMZTkx7B6vM5wvmtYRhO67KBqJmHpbonhKga131FAel22f5A3RIJJ0Yti9/4w6W0xJELgfn8AYUxLm3M+rMGLbJ+VVlab6uvoZ7r1rbbEzFXXux+c3+02tdWJgxLm2YEubUqXhJC+L2Z7qSoHtmhh8+6RzbZ3x+/54edK5thjYzsMw6v4cFMo9msq1ljsgAIAXDCAAgBcMIACAFwwgAIAXDCAAgBcMIACAFwwgAIAXDCAAgBcMIACAFwwgAIAXDCAAgBeTNgvu5GBGMcesp3TWPbepGBrz2hzz6CSprMyaBWfJVrJ9rxCLute77uf/WUvMVD+reZZz7YJPXGLqPTTkHiBWXV1j6l0YHnaufeu/fmPq/V9He0z1M1tnOtde1NRs6v3OyePOtV17bNsZT7pn2F0wq97UezCdd66d3zLP1HvonTdN9Ud63nauHc67X/eSdOGFrc618WSFqXcicF9LNOZ+3Ucd23IHBADwwjSAOjs7dcUVV6impkaNjY264YYb1N3dPabm6quvViQSGfO44447xnXRAICpzzSAurq61NHRoV27dumFF15QoVDQtddeq3Q6PabutttuU09Pz+jjoYceGtdFAwCmPtPvgJ577rkx/96yZYsaGxu1Z88eLV++fPTjlZWVam62/RwaAHB+OavfAQ0MDEiS6uvH/vLwxz/+sRoaGrRo0SJt3LhRmUzmtD1yuZwGBwfHPAAA098ZvwouCALdfffduuqqq7Ro0aLRj3/xi1/U3Llz1draqn379ulrX/uauru79bOf/eyUfTo7O3X//fef6TIAAFPUGQ+gjo4Ovfbaa/rlL3855uO333776H9ffvnlamlp0YoVK3Tw4EFddNFFH+qzceNGbdiwYfTfg4ODamtrO9NlAQCmiDMaQOvXr9ezzz6rl19+WbNnz/7I2mXLlkmSDhw4cMoBlEwmlUy6/81zAMD0YBpAYRjqrrvu0rZt27Rjxw7Nm/fxb+7au3evJKmlpeWMFggAmJ5MA6ijo0Nbt27V008/rZqaGvX29kqSUqmUKioqdPDgQW3dulV/9Ed/pJkzZ2rfvn265557tHz5ci1evHhCNgAAMDWZBtDmzZslvfdm0//tscce0y233KJEIqEXX3xRDz/8sNLptNra2rR27Vp94xvfGLcFAwCmB/OP4D5KW1uburq6zmpB7xseySvqmFFWdI9rU/Ax2/BBMcML1c2ZaiX32og1ws6gVDIsRNKsRvdsN0lauHChc22yImHqPZhxzwMrGHL9JKnWkE22oNJ2hz/wti0L7tDb6Y8v+m9Vjbbj2XNixLm2rKzS1Lumrs65tlRh+11wWZV7/exL55t6v3XyhKk+feSwc215zpalGDXkOkYjtnfWlJW5j4BIxHD9OD5fkQUHAPCCAQQA8IIBBADwggEEAPCCAQQA8IIBBADwggEEAPCCAQQA8IIBBADwggEEAPDijP8e0ETLB1LUMfkhjLpvRhgWTeuIGjJwgpKtdxgEzrWxqC2+o2iInWloaDD1njffFmtSZogHqa2oMvUeKnOPkel/511T77IZtc61M1LutZLU1Gzb59nhYefavhNDpt5lsQrn2rmz55h6z2h0T8HPlwqm3sOD7zjXHj92zNb7HffektQyc4Zz7QWtzabeVVXu10QmZ4thsjBFAjnWcgcEAPCCAQQA8IIBBADwggEEAPCCAQQA8IIBBADwggEEAPCCAQQA8IIBBADwggEEAPCCAQQA8GLSZsEFkYgUdcthCw1jNBK6Z7tJUiRwz1QzxMa9p8x99xcKeVPrxsaZzrXLr/6MqXcmmzPVF7Jp59pyx2P+vpghP6wqZsvTi5Tcc7WCoi0HsCxeaaovyX2/5GxLUXrE/XhW19jWnR8ZdK5NJG2957TOdq4tZo3Xz8x6U31NrXsWYFkibuodsZy3gS1Pr5h3ry+Luq87dHze5A4IAOAFAwgA4AUDCADgBQMIAOAFAwgA4AUDCADgBQMIAOAFAwgA4AUDCADgBQMIAODFpI3iicWiijrGsljSW0L3ZJ33elvqjVk8+aJ7BEpNTdLUe8niBc61M+psESi5ExlTfZhwr00kjVE8Efe4nFjUvVaSonKvLxkjUCKhbS2FXNZ9LbJFvdQbYmcaZ9kiaoqGczyddo9skqRkufuJFYaBqffMWRWm+qIhEurEu+7xRJJUsiw9YtvOwHDehoYYszB0y4PiDggA4AUDCADgBQMIAOAFAwgA4AUDCADgBQMIAOAFAwgA4AUDCADgBQMIAOAFAwgA4AUDCADgxaTNgotGIoo6ZqtZ0sPCWMy2EEN4XK5oywOrrCl3rv3Upxabeje3NDrXWvKgJCmUW87T+yw5aYkKW+ZdRbV7jt3A8ZOm3mWhe6ZaNG77Xi5WZquPl7mft6WCLQ+s/913nGtH0gOm3pbLrWA8Dy0XfiJuCCSUVF7hfm1KUhC47/NYzJbVVwrcz5Vs3rYPS4bnt8Cww0PHWu6AAABemAbQ5s2btXjxYtXW1qq2tlbt7e36+c9/Pvr5bDarjo4OzZw5U9XV1Vq7dq36+vrGfdEAgKnPNIBmz56tBx98UHv27NHu3bt1zTXX6Prrr9frr78uSbrnnnv0zDPP6Mknn1RXV5eOHTumG2+8cUIWDgCY2ky/A7ruuuvG/Ptv//ZvtXnzZu3atUuzZ8/Wo48+qq1bt+qaa66RJD322GP6xCc+oV27dunTn/70+K0aADDlnfHvgEqlkp544gml02m1t7drz549KhQKWrly5WjNwoULNWfOHO3cufO0fXK5nAYHB8c8AADTn3kA/epXv1J1dbWSyaTuuOMObdu2TZdddpl6e3uVSCRUV1c3pr6pqUm9vb2n7dfZ2alUKjX6aGtrM28EAGDqMQ+gBQsWaO/evXrllVd05513at26dfr1r399xgvYuHGjBgYGRh9Hjhw5414AgKnD/D6gRCKhiy++WJK0dOlS/cd//Ie+973v6aabblI+n1d/f/+Yu6C+vj41Nzeftl8ymVQyaXvvBwBg6jvr9wEFQaBcLqelS5cqHo9r+/bto5/r7u7W4cOH1d7efrZfBgAwzZjugDZu3Kg1a9Zozpw5Ghoa0tatW7Vjxw49//zzSqVSuvXWW7VhwwbV19ertrZWd911l9rb23kFHADgQ0wD6Pjx4/qTP/kT9fT0KJVKafHixXr++ef1h3/4h5Kk7373u4pGo1q7dq1yuZxWrVqlH/7wh2e0sEjgGuYglUXcb+RKoS2mJBeWnGujSVvcx4IFlznXXtA6x9Q7KLmvu5B3r5Wk0BANIklh6J7Hkk7nTb3jySrn2qpq23bGLcczYjv2xcAWCRUrr3aurap1jyeSpIh7GosKuYypdyl0j4aJRd2PpSRFo+77MDT+sCdbMv5wKHSPqcmXRoyt3XvH4+7niSQp4n5NJCzXQ9TtuJsG0KOPPvqRny8vL9emTZu0adMmS1sAwHmILDgAgBcMIACAFwwgAIAXDCAAgBcMIACAFwwgAIAXDCAAgBcMIACAFwwgAIAX5jTsiRaG7+WCBIF7PkjJkCUShIbcEWu9Yc2SVCgWnWtzefdIE0mKGSI2YiVbPFHeuJZ8wbCdOVsUj2UtBcM6JCmMukeglOVt38tN5HZGZOttiuIxHntLFI+itvMwYqq3HZ+IId5Lki2Kx7gPLVE8+YKtd7FoeJ4oc19H4b/XEX7M82ck/LiKc+zo0aP8UToAmAaOHDmi2bNnn/bzk24ABUGgY8eOqaamRpH/NfkHBwfV1tamI0eOqLa21uMKJxbbOX2cD9sosZ3TzXhsZxiGGhoaUmtrq6LR099NTrofwUWj0Y+cmLW1tdP64L+P7Zw+zodtlNjO6eZstzOVSn1sDS9CAAB4wQACAHgxZQZQMpnUfffdp2Qy6XspE4rtnD7Oh22U2M7p5lxu56R7EQIA4PwwZe6AAADTCwMIAOAFAwgA4AUDCADgxZQZQJs2bdKFF16o8vJyLVu2TP/+7//ue0nj6lvf+pYikciYx8KFC30v66y8/PLLuu6669Ta2qpIJKKnnnpqzOfDMNS9996rlpYWVVRUaOXKldq/f7+fxZ6Fj9vOW2655UPHdvXq1X4We4Y6Ozt1xRVXqKamRo2NjbrhhhvU3d09piabzaqjo0MzZ85UdXW11q5dq76+Pk8rPjMu23n11Vd/6HjecccdnlZ8ZjZv3qzFixePvtm0vb1dP//5z0c/f66O5ZQYQD/5yU+0YcMG3XffffrP//xPLVmyRKtWrdLx48d9L21cffKTn1RPT8/o45e//KXvJZ2VdDqtJUuWaNOmTaf8/EMPPaTvf//7euSRR/TKK6+oqqpKq1atUjabPccrPTsft52StHr16jHH9vHHHz+HKzx7XV1d6ujo0K5du/TCCy+oUCjo2muvVTqdHq2555579Mwzz+jJJ59UV1eXjh07phtvvNHjqu1ctlOSbrvttjHH86GHHvK04jMze/ZsPfjgg9qzZ492796ta665Rtdff71ef/11SefwWIZTwJVXXhl2dHSM/rtUKoWtra1hZ2enx1WNr/vuuy9csmSJ72VMGEnhtm3bRv8dBEHY3Nwcfvvb3x79WH9/f5hMJsPHH3/cwwrHxwe3MwzDcN26deH111/vZT0T5fjx46GksKurKwzD945dPB4Pn3zyydGa3/zmN6GkcOfOnb6WedY+uJ1hGIZ/8Ad/EP75n/+5v0VNkBkzZoR///d/f06P5aS/A8rn89qzZ49Wrlw5+rFoNKqVK1dq586dHlc2/vbv36/W1lbNnz9fX/rSl3T48GHfS5owhw4dUm9v75jjmkqltGzZsml3XCVpx44damxs1IIFC3TnnXfq5MmTvpd0VgYGBiRJ9fX1kqQ9e/aoUCiMOZ4LFy7UnDlzpvTx/OB2vu/HP/6xGhoatGjRIm3cuFGZTMbH8sZFqVTSE088oXQ6rfb29nN6LCddGOkHvf322yqVSmpqahrz8aamJv32t7/1tKrxt2zZMm3ZskULFixQT0+P7r//fn32s5/Va6+9ppqaGt/LG3e9vb2SdMrj+v7npovVq1frxhtv1Lx583Tw4EH91V/9ldasWaOdO3cqFov5Xp5ZEAS6++67ddVVV2nRokWS3jueiURCdXV1Y2qn8vE81XZK0he/+EXNnTtXra2t2rdvn772ta+pu7tbP/vZzzyu1u5Xv/qV2tvblc1mVV1drW3btumyyy7T3r17z9mxnPQD6HyxZs2a0f9evHixli1bprlz5+qnP/2pbr31Vo8rw9m6+eabR//78ssv1+LFi3XRRRdpx44dWrFihceVnZmOjg699tprU/53lB/ndNt5++23j/735ZdfrpaWFq1YsUIHDx7URRdddK6XecYWLFigvXv3amBgQP/0T/+kdevWqaur65yuYdL/CK6hoUGxWOxDr8Do6+tTc3Ozp1VNvLq6Ol166aU6cOCA76VMiPeP3fl2XCVp/vz5amhomJLHdv369Xr22Wf1i1/8YsyfTWlublY+n1d/f/+Y+ql6PE+3naeybNkySZpyxzORSOjiiy/W0qVL1dnZqSVLluh73/veOT2Wk34AJRIJLV26VNu3bx/9WBAE2r59u9rb2z2ubGINDw/r4MGDamlp8b2UCTFv3jw1NzePOa6Dg4N65ZVXpvVxld77q78nT56cUsc2DEOtX79e27Zt00svvaR58+aN+fzSpUsVj8fHHM/u7m4dPnx4Sh3Pj9vOU9m7d68kTanjeSpBECiXy53bYzmuL2mYIE888USYTCbDLVu2hL/+9a/D22+/Payrqwt7e3t9L23c/MVf/EW4Y8eO8NChQ+G//uu/hitXrgwbGhrC48eP+17aGRsaGgpfffXV8NVXXw0lhd/5znfCV199NXzrrbfCMAzDBx98MKyrqwuffvrpcN++feH1118fzps3LxwZGfG8cpuP2s6hoaHwK1/5Srhz587w0KFD4Ysvvhh+6lOfCi+55JIwm836XrqzO++8M0ylUuGOHTvCnp6e0UcmkxmtueOOO8I5c+aEL730Urh79+6wvb09bG9v97hqu4/bzgMHDoQPPPBAuHv37vDQoUPh008/Hc6fPz9cvny555XbfP3rXw+7urrCQ4cOhfv27Qu//vWvh5FIJPyXf/mXMAzP3bGcEgMoDMPwBz/4QThnzpwwkUiEV155Zbhr1y7fSxpXN910U9jS0hImEonwggsuCG+66abwwIEDvpd1Vn7xi1+Ekj70WLduXRiG770U+5vf/GbY1NQUJpPJcMWKFWF3d7ffRZ+Bj9rOTCYTXnvtteGsWbPCeDwezp07N7ztttum3DdPp9o+SeFjjz02WjMyMhL+2Z/9WThjxoywsrIy/PznPx/29PT4W/QZ+LjtPHz4cLh8+fKwvr4+TCaT4cUXXxz+5V/+ZTgwMOB34UZ/+qd/Gs6dOzdMJBLhrFmzwhUrVowOnzA8d8eSP8cAAPBi0v8OCAAwPTGAAABeMIAAAF4wgAAAXjCAAABeMIAAAF4wgAAAXjCAAABeMIAAAF4wgAAAXjCAAABeMIAAAF78f1esWnJpxxptAAAAAElFTkSuQmCC\n"
                },
                "metadata": {}
              }
            ]
          }
        },
        "0b4aca4e51e04a63bd0c47284837734b": {
          "model_module": "@jupyter-widgets/base",
          "model_name": "LayoutModel",
          "model_module_version": "1.2.0",
          "state": {
            "_model_module": "@jupyter-widgets/base",
            "_model_module_version": "1.2.0",
            "_model_name": "LayoutModel",
            "_view_count": null,
            "_view_module": "@jupyter-widgets/base",
            "_view_module_version": "1.2.0",
            "_view_name": "LayoutView",
            "align_content": null,
            "align_items": null,
            "align_self": null,
            "border": null,
            "bottom": null,
            "display": null,
            "flex": null,
            "flex_flow": null,
            "grid_area": null,
            "grid_auto_columns": null,
            "grid_auto_flow": null,
            "grid_auto_rows": null,
            "grid_column": null,
            "grid_gap": null,
            "grid_row": null,
            "grid_template_areas": null,
            "grid_template_columns": null,
            "grid_template_rows": null,
            "height": null,
            "justify_content": null,
            "justify_items": null,
            "left": null,
            "margin": null,
            "max_height": null,
            "max_width": null,
            "min_height": null,
            "min_width": null,
            "object_fit": null,
            "object_position": null,
            "order": null,
            "overflow": null,
            "overflow_x": null,
            "overflow_y": null,
            "padding": null,
            "right": null,
            "top": null,
            "visibility": null,
            "width": null
          }
        },
        "8e9978b8de844deb8acd6fe85a907a62": {
          "model_module": "@jupyter-widgets/base",
          "model_name": "LayoutModel",
          "model_module_version": "1.2.0",
          "state": {
            "_model_module": "@jupyter-widgets/base",
            "_model_module_version": "1.2.0",
            "_model_name": "LayoutModel",
            "_view_count": null,
            "_view_module": "@jupyter-widgets/base",
            "_view_module_version": "1.2.0",
            "_view_name": "LayoutView",
            "align_content": null,
            "align_items": null,
            "align_self": null,
            "border": null,
            "bottom": null,
            "display": null,
            "flex": null,
            "flex_flow": null,
            "grid_area": null,
            "grid_auto_columns": null,
            "grid_auto_flow": null,
            "grid_auto_rows": null,
            "grid_column": null,
            "grid_gap": null,
            "grid_row": null,
            "grid_template_areas": null,
            "grid_template_columns": null,
            "grid_template_rows": null,
            "height": null,
            "justify_content": null,
            "justify_items": null,
            "left": null,
            "margin": null,
            "max_height": null,
            "max_width": null,
            "min_height": null,
            "min_width": null,
            "object_fit": null,
            "object_position": null,
            "order": null,
            "overflow": null,
            "overflow_x": null,
            "overflow_y": null,
            "padding": null,
            "right": null,
            "top": null,
            "visibility": null,
            "width": null
          }
        },
        "f2c229114aa04aa599662a8be99771be": {
          "model_module": "@jupyter-widgets/controls",
          "model_name": "SliderStyleModel",
          "model_module_version": "1.5.0",
          "state": {
            "_model_module": "@jupyter-widgets/controls",
            "_model_module_version": "1.5.0",
            "_model_name": "SliderStyleModel",
            "_view_count": null,
            "_view_module": "@jupyter-widgets/base",
            "_view_module_version": "1.2.0",
            "_view_name": "StyleView",
            "description_width": "",
            "handle_color": null
          }
        },
        "8716be0906a04335bdd3e70175695dc3": {
          "model_module": "@jupyter-widgets/base",
          "model_name": "LayoutModel",
          "model_module_version": "1.2.0",
          "state": {
            "_model_module": "@jupyter-widgets/base",
            "_model_module_version": "1.2.0",
            "_model_name": "LayoutModel",
            "_view_count": null,
            "_view_module": "@jupyter-widgets/base",
            "_view_module_version": "1.2.0",
            "_view_name": "LayoutView",
            "align_content": null,
            "align_items": null,
            "align_self": null,
            "border": null,
            "bottom": null,
            "display": null,
            "flex": null,
            "flex_flow": null,
            "grid_area": null,
            "grid_auto_columns": null,
            "grid_auto_flow": null,
            "grid_auto_rows": null,
            "grid_column": null,
            "grid_gap": null,
            "grid_row": null,
            "grid_template_areas": null,
            "grid_template_columns": null,
            "grid_template_rows": null,
            "height": null,
            "justify_content": null,
            "justify_items": null,
            "left": null,
            "margin": null,
            "max_height": null,
            "max_width": null,
            "min_height": null,
            "min_width": null,
            "object_fit": null,
            "object_position": null,
            "order": null,
            "overflow": null,
            "overflow_x": null,
            "overflow_y": null,
            "padding": null,
            "right": null,
            "top": null,
            "visibility": null,
            "width": null
          }
        },
        "0d27a052bbc546febecb52736ebaa959": {
          "model_module": "@jupyter-widgets/controls",
          "model_name": "ButtonStyleModel",
          "model_module_version": "1.5.0",
          "state": {
            "_model_module": "@jupyter-widgets/controls",
            "_model_module_version": "1.5.0",
            "_model_name": "ButtonStyleModel",
            "_view_count": null,
            "_view_module": "@jupyter-widgets/base",
            "_view_module_version": "1.2.0",
            "_view_name": "StyleView",
            "button_color": null,
            "font_weight": ""
          }
        },
        "b7103148861846249bc236d1c17fb0a0": {
          "model_module": "@jupyter-widgets/base",
          "model_name": "LayoutModel",
          "model_module_version": "1.2.0",
          "state": {
            "_model_module": "@jupyter-widgets/base",
            "_model_module_version": "1.2.0",
            "_model_name": "LayoutModel",
            "_view_count": null,
            "_view_module": "@jupyter-widgets/base",
            "_view_module_version": "1.2.0",
            "_view_name": "LayoutView",
            "align_content": null,
            "align_items": null,
            "align_self": null,
            "border": null,
            "bottom": null,
            "display": null,
            "flex": null,
            "flex_flow": null,
            "grid_area": null,
            "grid_auto_columns": null,
            "grid_auto_flow": null,
            "grid_auto_rows": null,
            "grid_column": null,
            "grid_gap": null,
            "grid_row": null,
            "grid_template_areas": null,
            "grid_template_columns": null,
            "grid_template_rows": null,
            "height": null,
            "justify_content": null,
            "justify_items": null,
            "left": null,
            "margin": null,
            "max_height": null,
            "max_width": null,
            "min_height": null,
            "min_width": null,
            "object_fit": null,
            "object_position": null,
            "order": null,
            "overflow": null,
            "overflow_x": null,
            "overflow_y": null,
            "padding": null,
            "right": null,
            "top": null,
            "visibility": null,
            "width": null
          }
        }
      }
    }
  },
  "cells": [
    {
      "cell_type": "markdown",
      "metadata": {
        "id": "view-in-github",
        "colab_type": "text"
      },
      "source": [
        "<a href=\"https://colab.research.google.com/github/3B032013/2025_ML_hws/blob/main/hw4_1.ipynb\" target=\"_parent\"><img src=\"https://colab.research.google.com/assets/colab-badge.svg\" alt=\"Open In Colab\"/></a>"
      ]
    },
    {
      "cell_type": "markdown",
      "source": [
        "# 載入所需套件"
      ],
      "metadata": {
        "id": "i4wIDHTYcWwg"
      }
    },
    {
      "cell_type": "code",
      "execution_count": 117,
      "metadata": {
        "id": "1ZpSZvSdcI5n"
      },
      "outputs": [],
      "source": [
        "%matplotlib inline\n",
        "import matplotlib.pyplot as plt\n",
        "import numpy as np\n",
        "import pandas as pd\n",
        "\n",
        "from tensorflow.keras.datasets import cifar10\n",
        "from tensorflow.keras.utils import to_categorical\n",
        "from tensorflow.keras.models import Sequential\n",
        "from tensorflow.keras.layers import Conv2D, MaxPool2D\n",
        "from tensorflow.keras.layers import Dense, Flatten\n",
        "from tensorflow.keras.optimizers import SGD, Adam"
      ]
    },
    {
      "cell_type": "markdown",
      "source": [
        "# 一、資料預處理"
      ],
      "metadata": {
        "id": "uLmw8N6mcmHo"
      }
    },
    {
      "cell_type": "markdown",
      "source": [
        "1. 讀入 CIFAR-10 數據集\n",
        "\n",
        "CIFAR-10 是一個小尺吋（32x32）彩色圖片資料集，其中，訓練集包含了 50000 張大小為 32x32 的彩色圖片；測試集包含了 10000 張大小為 32x32 的彩色圖片。CIFAR-10 的圖片資料可分為以下 10 個種類：\n",
        "\n",
        "*   飛機 (airplane)\n",
        "*   交通工具 (automobile)\n",
        "*   鳥 (bird)\n",
        "*   貓 (cat)\n",
        "*   鹿 (deer)\n",
        "*   狗 (dog)\n",
        "*   青蛙 (frog)\n",
        "*   馬 (horse)\n",
        "*   船 (ship)\n",
        "*   卡車 (truck)\n"
      ],
      "metadata": {
        "id": "cwfZ8FkfcqwQ"
      }
    },
    {
      "cell_type": "code",
      "source": [
        "(x_train, y_train), (x_test, y_test) = cifar10.load_data()"
      ],
      "metadata": {
        "id": "tcF3NlyWcoLT"
      },
      "execution_count": 118,
      "outputs": []
    },
    {
      "cell_type": "code",
      "source": [
        "(x_test_image,y_test_label)= cifar10.load_data()"
      ],
      "metadata": {
        "id": "mX29yKBHvFjr"
      },
      "execution_count": 119,
      "outputs": []
    },
    {
      "cell_type": "markdown",
      "source": [
        "2. 資料整理\n",
        "\n",
        "資料尺寸與通道數（Channel）\n",
        "\n",
        "由於 CNN 模型的輸入資料必須是圖片，所以我們需要注意一張圖有多少個 channel。\n",
        "\n",
        "\n",
        "因為CIFAR-10資料集的資料為彩色圖片，每一個像素點，其實包含了紅色（Red）、綠色（Green）以及藍色（Blue）三原色的強度，所以每一張圖有三個 channel，以及代表三種顏色的強度。"
      ],
      "metadata": {
        "id": "QMN2XZAHdIgj"
      }
    },
    {
      "cell_type": "code",
      "source": [
        "x_train.shape"
      ],
      "metadata": {
        "colab": {
          "base_uri": "https://localhost:8080/"
        },
        "id": "PgVkMFN8dNZ8",
        "outputId": "93d5f8a1-3ea8-453e-b194-722d6a37c734"
      },
      "execution_count": 120,
      "outputs": [
        {
          "output_type": "execute_result",
          "data": {
            "text/plain": [
              "(50000, 32, 32, 3)"
            ]
          },
          "metadata": {},
          "execution_count": 120
        }
      ]
    },
    {
      "cell_type": "code",
      "source": [
        "np.unique(y_train)"
      ],
      "metadata": {
        "colab": {
          "base_uri": "https://localhost:8080/"
        },
        "id": "q3-xEB03dOhh",
        "outputId": "91820fa1-58a1-419f-cdb4-111ca5c9fff2"
      },
      "execution_count": 121,
      "outputs": [
        {
          "output_type": "execute_result",
          "data": {
            "text/plain": [
              "array([0, 1, 2, 3, 4, 5, 6, 7, 8, 9], dtype=uint8)"
            ]
          },
          "metadata": {},
          "execution_count": 121
        }
      ]
    },
    {
      "cell_type": "code",
      "source": [
        "print(f\"資料的最小值: {np.min(x_train)}\")\n",
        "print(f\"資料的最大值: {np.max(x_train)}\")"
      ],
      "metadata": {
        "colab": {
          "base_uri": "https://localhost:8080/"
        },
        "id": "zPkvHR-gdR7u",
        "outputId": "cbe99482-1306-4d76-f125-a4f4cbae7956"
      },
      "execution_count": 122,
      "outputs": [
        {
          "output_type": "stream",
          "name": "stdout",
          "text": [
            "資料的最小值: 0\n",
            "資料的最大值: 255\n"
          ]
        }
      ]
    },
    {
      "cell_type": "code",
      "source": [
        "print(f\"資料的最小值: {np.min(x_test)}\")\n",
        "print(f\"資料的最大值: {np.max(x_test)}\")"
      ],
      "metadata": {
        "colab": {
          "base_uri": "https://localhost:8080/"
        },
        "id": "0Bcpf5bpdS2B",
        "outputId": "d6ffbab1-beb6-45fd-99c8-d5b74b2f0825"
      },
      "execution_count": 123,
      "outputs": [
        {
          "output_type": "stream",
          "name": "stdout",
          "text": [
            "資料的最小值: 0\n",
            "資料的最大值: 255\n"
          ]
        }
      ]
    },
    {
      "cell_type": "code",
      "source": [
        "x_train = x_train/255\n",
        "x_test = x_test/255"
      ],
      "metadata": {
        "id": "r-m8Iy3mdTx6"
      },
      "execution_count": 124,
      "outputs": []
    },
    {
      "cell_type": "code",
      "source": [
        "y_train = to_categorical(y_train, 10)\n",
        "y_test = to_categorical(y_test, 10)"
      ],
      "metadata": {
        "id": "_IyzNAcldUtK"
      },
      "execution_count": 125,
      "outputs": []
    },
    {
      "cell_type": "code",
      "source": [
        "y_train.shape"
      ],
      "metadata": {
        "colab": {
          "base_uri": "https://localhost:8080/"
        },
        "id": "x3NwdIuUdVy6",
        "outputId": "bb18153f-9e51-4b62-ee58-3f2c174d0a08"
      },
      "execution_count": 126,
      "outputs": [
        {
          "output_type": "execute_result",
          "data": {
            "text/plain": [
              "(50000, 10)"
            ]
          },
          "metadata": {},
          "execution_count": 126
        }
      ]
    },
    {
      "cell_type": "code",
      "source": [
        "# 資料類別標籤\n",
        "labels_name = [\"airplane\",\"automobile\",\"bird\",\"cat\",\"deer\",\"dog\",\"frog\",\"horse\",\"ship\",\"truck\"]"
      ],
      "metadata": {
        "id": "lMlQ_J-qdcZf"
      },
      "execution_count": 127,
      "outputs": []
    },
    {
      "cell_type": "code",
      "source": [
        "# 顯示三張訓練資料(圖片)及其所對應的label名稱\n",
        "plt.figure(figsize=(10, 3))\n",
        "for i in range(3):\n",
        "    plt.subplot(1, 3, i + 1)\n",
        "    plt.imshow(x_train[i])\n",
        "    label_index = np.argmax(y_train[i])  # 從 one-hot 還原 label 編號\n",
        "    plt.title(f\"Label: {labels_name[label_index]}\")\n",
        "    plt.axis('off')\n",
        "plt.tight_layout()\n",
        "plt.show()"
      ],
      "metadata": {
        "colab": {
          "base_uri": "https://localhost:8080/",
          "height": 308
        },
        "id": "PeEDVVJBdb-S",
        "outputId": "86a3ae9d-e8af-401b-8c4a-0299540a0086"
      },
      "execution_count": 128,
      "outputs": [
        {
          "output_type": "display_data",
          "data": {
            "text/plain": [
              "<Figure size 1000x300 with 3 Axes>"
            ],
            "image/png": "[encoded data removed]"
          },
          "metadata": {}
        }
      ]
    },
    {
      "cell_type": "markdown",
      "source": [
        "# 二、建立神經網路模型"
      ],
      "metadata": {
        "id": "AfTbQarRgRTn"
      }
    },
    {
      "cell_type": "code",
      "source": [
        "model = Sequential()"
      ],
      "metadata": {
        "id": "II_CvBxTgTDY"
      },
      "execution_count": 129,
      "outputs": []
    },
    {
      "cell_type": "code",
      "source": [
        "# 第一層：卷積層16個Filter，尺寸大小(3,3) 激活函數使用ReLU\n",
        "model.add(Conv2D(16, (3, 3), padding='same',\n",
        "        input_shape=(32, 32, 3),\n",
        "        activation='relu'))\n",
        "\n",
        "# 此層參數個數\n",
        "# 公式是Filter尺寸*input通道數*Filter個數 再加上Filter個數\n",
        "# 所以是 3*3*3*16 + 16\n",
        "#　　　　=432+16\n",
        "#    =448"
      ],
      "metadata": {
        "colab": {
          "base_uri": "https://localhost:8080/"
        },
        "id": "a4f_rb4_g_S6",
        "outputId": "8a7e15b8-b77b-450b-fd3d-6a0cbe46ccfc"
      },
      "execution_count": 130,
      "outputs": [
        {
          "output_type": "stream",
          "name": "stderr",
          "text": [
            "/usr/local/lib/python3.11/dist-packages/keras/src/layers/convolutional/base_conv.py:107: UserWarning: Do not pass an `input_shape`/`input_dim` argument to a layer. When using Sequential models, prefer using an `Input(shape)` object as the first layer in the model instead.\n",
            "  super().__init__(activity_regularizer=activity_regularizer, **kwargs)\n"
          ]
        }
      ]
    },
    {
      "cell_type": "code",
      "source": [
        "# 第二層：卷積層16個Filter，尺寸大小(3,3) 激活函數使用ReLU\n",
        "model.add(Conv2D(16, (3, 3), padding='same',\n",
        "        activation='relu'))\n",
        "\n",
        "# 此層參數個數\n",
        "#  3*3*16*16 + 16\n",
        "# =2304+16\n",
        "# =2320"
      ],
      "metadata": {
        "id": "S3QIWPsplpLe"
      },
      "execution_count": 131,
      "outputs": []
    },
    {
      "cell_type": "code",
      "source": [
        "# 第三層：池化層，池化尺寸(2,2)\n",
        "model.add(MaxPool2D())"
      ],
      "metadata": {
        "id": "uP6vMNzzhObd"
      },
      "execution_count": 132,
      "outputs": []
    },
    {
      "cell_type": "code",
      "source": [
        "# 第四層：卷積層32個Filter，尺寸大小(3,3) 激活函數使用ReLU\n",
        "model.add(Conv2D(32, (3, 3), padding='same',\n",
        "        activation='relu'))\n",
        "\n",
        "# 此層參數個數\n",
        "#  3*3*16*32 + 32\n",
        "# =4608+32\n",
        "# =4640"
      ],
      "metadata": {
        "id": "TBHL7RjClzGv"
      },
      "execution_count": 133,
      "outputs": []
    },
    {
      "cell_type": "code",
      "source": [
        "# 第五層：卷積層32個Filter，尺寸大小(3,3) 激活函數使用ReLU\n",
        "model.add(Conv2D(32, (3, 3), padding='same',\n",
        "        activation='relu'))\n",
        "\n",
        "# 此層參數個數\n",
        "#  3*3*32*32 + 32\n",
        "# =9216+32\n",
        "# =9248"
      ],
      "metadata": {
        "id": "4A6e2jPFl4_6"
      },
      "execution_count": 134,
      "outputs": []
    },
    {
      "cell_type": "code",
      "source": [
        "# 第六層：池化層，池化尺寸(2,2)\n",
        "model.add(MaxPool2D())"
      ],
      "metadata": {
        "id": "qqFTPNZFhcJh"
      },
      "execution_count": 135,
      "outputs": []
    },
    {
      "cell_type": "code",
      "source": [
        "# 第七層：拉平層\n",
        "model.add(Flatten())"
      ],
      "metadata": {
        "id": "hwrRZVfPhg2p"
      },
      "execution_count": 136,
      "outputs": []
    },
    {
      "cell_type": "code",
      "source": [
        "# 第八層：全連接層：10個神經元，激活函數使用Softmax\n",
        "model.add(Dense(10, activation='softmax'))\n",
        "\n",
        "# 此層參數個數\n",
        "# 公式是輸入神經元數*輸出神經元數 + 輸出神經元bias\n",
        "#  2048*10 + 10\n",
        "# =20480+10\n",
        "# =20490"
      ],
      "metadata": {
        "id": "h4gGAa-ZhnFK"
      },
      "execution_count": 137,
      "outputs": []
    },
    {
      "cell_type": "code",
      "source": [
        "model.summary()"
      ],
      "metadata": {
        "colab": {
          "base_uri": "https://localhost:8080/",
          "height": 408
        },
        "id": "yh950oAThpG5",
        "outputId": "545126d8-ac9c-44b7-8dcc-fdae9508e124"
      },
      "execution_count": 138,
      "outputs": [
        {
          "output_type": "display_data",
          "data": {
            "text/plain": [
              "\u001b[1mModel: \"sequential_3\"\u001b[0m\n"
            ],
            "text/html": [
              "<pre style=\"white-space:pre;overflow-x:auto;line-height:normal;font-family:Menlo,'DejaVu Sans Mono',consolas,'Courier New',monospace\"><span style=\"font-weight: bold\">Model: \"sequential_3\"</span>\n",
              "</pre>\n"
            ]
          },
          "metadata": {}
        },
        {
          "output_type": "display_data",
          "data": {
            "text/plain": [
              "┏━━━━━━━━━━━━━━━━━━━━━━━━━━━━━━━━━┳━━━━━━━━━━━━━━━━━━━━━━━━┳━━━━━━━━━━━━━━━┓\n",
              "┃\u001b[1m \u001b[0m\u001b[1mLayer (type)                   \u001b[0m\u001b[1m \u001b[0m┃\u001b[1m \u001b[0m\u001b[1mOutput Shape          \u001b[0m\u001b[1m \u001b[0m┃\u001b[1m \u001b[0m\u001b[1m      Param #\u001b[0m\u001b[1m \u001b[0m┃\n",
              "┡━━━━━━━━━━━━━━━━━━━━━━━━━━━━━━━━━╇━━━━━━━━━━━━━━━━━━━━━━━━╇━━━━━━━━━━━━━━━┩\n",
              "│ conv2d_12 (\u001b[38;5;33mConv2D\u001b[0m)              │ (\u001b[38;5;45mNone\u001b[0m, \u001b[38;5;34m32\u001b[0m, \u001b[38;5;34m32\u001b[0m, \u001b[38;5;34m16\u001b[0m)     │           \u001b[38;5;34m448\u001b[0m │\n",
              "├─────────────────────────────────┼────────────────────────┼───────────────┤\n",
              "│ conv2d_13 (\u001b[38;5;33mConv2D\u001b[0m)              │ (\u001b[38;5;45mNone\u001b[0m, \u001b[38;5;34m32\u001b[0m, \u001b[38;5;34m32\u001b[0m, \u001b[38;5;34m16\u001b[0m)     │         \u001b[38;5;34m2,320\u001b[0m │\n",
              "├─────────────────────────────────┼────────────────────────┼───────────────┤\n",
              "│ max_pooling2d_6 (\u001b[38;5;33mMaxPooling2D\u001b[0m)  │ (\u001b[38;5;45mNone\u001b[0m, \u001b[38;5;34m16\u001b[0m, \u001b[38;5;34m16\u001b[0m, \u001b[38;5;34m16\u001b[0m)     │             \u001b[38;5;34m0\u001b[0m │\n",
              "├─────────────────────────────────┼────────────────────────┼───────────────┤\n",
              "│ conv2d_14 (\u001b[38;5;33mConv2D\u001b[0m)              │ (\u001b[38;5;45mNone\u001b[0m, \u001b[38;5;34m16\u001b[0m, \u001b[38;5;34m16\u001b[0m, \u001b[38;5;34m32\u001b[0m)     │         \u001b[38;5;34m4,640\u001b[0m │\n",
              "├─────────────────────────────────┼────────────────────────┼───────────────┤\n",
              "│ conv2d_15 (\u001b[38;5;33mConv2D\u001b[0m)              │ (\u001b[38;5;45mNone\u001b[0m, \u001b[38;5;34m16\u001b[0m, \u001b[38;5;34m16\u001b[0m, \u001b[38;5;34m32\u001b[0m)     │         \u001b[38;5;34m9,248\u001b[0m │\n",
              "├─────────────────────────────────┼────────────────────────┼───────────────┤\n",
              "│ max_pooling2d_7 (\u001b[38;5;33mMaxPooling2D\u001b[0m)  │ (\u001b[38;5;45mNone\u001b[0m, \u001b[38;5;34m8\u001b[0m, \u001b[38;5;34m8\u001b[0m, \u001b[38;5;34m32\u001b[0m)       │             \u001b[38;5;34m0\u001b[0m │\n",
              "├─────────────────────────────────┼────────────────────────┼───────────────┤\n",
              "│ flatten_3 (\u001b[38;5;33mFlatten\u001b[0m)             │ (\u001b[38;5;45mNone\u001b[0m, \u001b[38;5;34m2048\u001b[0m)           │             \u001b[38;5;34m0\u001b[0m │\n",
              "├─────────────────────────────────┼────────────────────────┼───────────────┤\n",
              "│ dense_3 (\u001b[38;5;33mDense\u001b[0m)                 │ (\u001b[38;5;45mNone\u001b[0m, \u001b[38;5;34m10\u001b[0m)             │        \u001b[38;5;34m20,490\u001b[0m │\n",
              "└─────────────────────────────────┴────────────────────────┴───────────────┘\n"
            ],
            "text/html": [
              "<pre style=\"white-space:pre;overflow-x:auto;line-height:normal;font-family:Menlo,'DejaVu Sans Mono',consolas,'Courier New',monospace\">┏━━━━━━━━━━━━━━━━━━━━━━━━━━━━━━━━━┳━━━━━━━━━━━━━━━━━━━━━━━━┳━━━━━━━━━━━━━━━┓\n",
              "┃<span style=\"font-weight: bold\"> Layer (type)                    </span>┃<span style=\"font-weight: bold\"> Output Shape           </span>┃<span style=\"font-weight: bold\">       Param # </span>┃\n",
              "┡━━━━━━━━━━━━━━━━━━━━━━━━━━━━━━━━━╇━━━━━━━━━━━━━━━━━━━━━━━━╇━━━━━━━━━━━━━━━┩\n",
              "│ conv2d_12 (<span style=\"color: #0087ff; text-decoration-color: #0087ff\">Conv2D</span>)              │ (<span style=\"color: #00d7ff; text-decoration-color: #00d7ff\">None</span>, <span style=\"color: #00af00; text-decoration-color: #00af00\">32</span>, <span style=\"color: #00af00; text-decoration-color: #00af00\">32</span>, <span style=\"color: #00af00; text-decoration-color: #00af00\">16</span>)     │           <span style=\"color: #00af00; text-decoration-color: #00af00\">448</span> │\n",
              "├─────────────────────────────────┼────────────────────────┼───────────────┤\n",
              "│ conv2d_13 (<span style=\"color: #0087ff; text-decoration-color: #0087ff\">Conv2D</span>)              │ (<span style=\"color: #00d7ff; text-decoration-color: #00d7ff\">None</span>, <span style=\"color: #00af00; text-decoration-color: #00af00\">32</span>, <span style=\"color: #00af00; text-decoration-color: #00af00\">32</span>, <span style=\"color: #00af00; text-decoration-color: #00af00\">16</span>)     │         <span style=\"color: #00af00; text-decoration-color: #00af00\">2,320</span> │\n",
              "├─────────────────────────────────┼────────────────────────┼───────────────┤\n",
              "│ max_pooling2d_6 (<span style=\"color: #0087ff; text-decoration-color: #0087ff\">MaxPooling2D</span>)  │ (<span style=\"color: #00d7ff; text-decoration-color: #00d7ff\">None</span>, <span style=\"color: #00af00; text-decoration-color: #00af00\">16</span>, <span style=\"color: #00af00; text-decoration-color: #00af00\">16</span>, <span style=\"color: #00af00; text-decoration-color: #00af00\">16</span>)     │             <span style=\"color: #00af00; text-decoration-color: #00af00\">0</span> │\n",
              "├─────────────────────────────────┼────────────────────────┼───────────────┤\n",
              "│ conv2d_14 (<span style=\"color: #0087ff; text-decoration-color: #0087ff\">Conv2D</span>)              │ (<span style=\"color: #00d7ff; text-decoration-color: #00d7ff\">None</span>, <span style=\"color: #00af00; text-decoration-color: #00af00\">16</span>, <span style=\"color: #00af00; text-decoration-color: #00af00\">16</span>, <span style=\"color: #00af00; text-decoration-color: #00af00\">32</span>)     │         <span style=\"color: #00af00; text-decoration-color: #00af00\">4,640</span> │\n",
              "├─────────────────────────────────┼────────────────────────┼───────────────┤\n",
              "│ conv2d_15 (<span style=\"color: #0087ff; text-decoration-color: #0087ff\">Conv2D</span>)              │ (<span style=\"color: #00d7ff; text-decoration-color: #00d7ff\">None</span>, <span style=\"color: #00af00; text-decoration-color: #00af00\">16</span>, <span style=\"color: #00af00; text-decoration-color: #00af00\">16</span>, <span style=\"color: #00af00; text-decoration-color: #00af00\">32</span>)     │         <span style=\"color: #00af00; text-decoration-color: #00af00\">9,248</span> │\n",
              "├─────────────────────────────────┼────────────────────────┼───────────────┤\n",
              "│ max_pooling2d_7 (<span style=\"color: #0087ff; text-decoration-color: #0087ff\">MaxPooling2D</span>)  │ (<span style=\"color: #00d7ff; text-decoration-color: #00d7ff\">None</span>, <span style=\"color: #00af00; text-decoration-color: #00af00\">8</span>, <span style=\"color: #00af00; text-decoration-color: #00af00\">8</span>, <span style=\"color: #00af00; text-decoration-color: #00af00\">32</span>)       │             <span style=\"color: #00af00; text-decoration-color: #00af00\">0</span> │\n",
              "├─────────────────────────────────┼────────────────────────┼───────────────┤\n",
              "│ flatten_3 (<span style=\"color: #0087ff; text-decoration-color: #0087ff\">Flatten</span>)             │ (<span style=\"color: #00d7ff; text-decoration-color: #00d7ff\">None</span>, <span style=\"color: #00af00; text-decoration-color: #00af00\">2048</span>)           │             <span style=\"color: #00af00; text-decoration-color: #00af00\">0</span> │\n",
              "├─────────────────────────────────┼────────────────────────┼───────────────┤\n",
              "│ dense_3 (<span style=\"color: #0087ff; text-decoration-color: #0087ff\">Dense</span>)                 │ (<span style=\"color: #00d7ff; text-decoration-color: #00d7ff\">None</span>, <span style=\"color: #00af00; text-decoration-color: #00af00\">10</span>)             │        <span style=\"color: #00af00; text-decoration-color: #00af00\">20,490</span> │\n",
              "└─────────────────────────────────┴────────────────────────┴───────────────┘\n",
              "</pre>\n"
            ]
          },
          "metadata": {}
        },
        {
          "output_type": "display_data",
          "data": {
            "text/plain": [
              "\u001b[1m Total params: \u001b[0m\u001b[38;5;34m37,146\u001b[0m (145.10 KB)\n"
            ],
            "text/html": [
              "<pre style=\"white-space:pre;overflow-x:auto;line-height:normal;font-family:Menlo,'DejaVu Sans Mono',consolas,'Courier New',monospace\"><span style=\"font-weight: bold\"> Total params: </span><span style=\"color: #00af00; text-decoration-color: #00af00\">37,146</span> (145.10 KB)\n",
              "</pre>\n"
            ]
          },
          "metadata": {}
        },
        {
          "output_type": "display_data",
          "data": {
            "text/plain": [
              "\u001b[1m Trainable params: \u001b[0m\u001b[38;5;34m37,146\u001b[0m (145.10 KB)\n"
            ],
            "text/html": [
              "<pre style=\"white-space:pre;overflow-x:auto;line-height:normal;font-family:Menlo,'DejaVu Sans Mono',consolas,'Courier New',monospace\"><span style=\"font-weight: bold\"> Trainable params: </span><span style=\"color: #00af00; text-decoration-color: #00af00\">37,146</span> (145.10 KB)\n",
              "</pre>\n"
            ]
          },
          "metadata": {}
        },
        {
          "output_type": "display_data",
          "data": {
            "text/plain": [
              "\u001b[1m Non-trainable params: \u001b[0m\u001b[38;5;34m0\u001b[0m (0.00 B)\n"
            ],
            "text/html": [
              "<pre style=\"white-space:pre;overflow-x:auto;line-height:normal;font-family:Menlo,'DejaVu Sans Mono',consolas,'Courier New',monospace\"><span style=\"font-weight: bold\"> Non-trainable params: </span><span style=\"color: #00af00; text-decoration-color: #00af00\">0</span> (0.00 B)\n",
              "</pre>\n"
            ]
          },
          "metadata": {}
        }
      ]
    },
    {
      "cell_type": "markdown",
      "source": [
        "# 三、訓練神經網路"
      ],
      "metadata": {
        "id": "NJiIRVNepSuI"
      }
    },
    {
      "cell_type": "code",
      "source": [
        "# 設定損失函數\n",
        "model.compile(loss='categorical_crossentropy',\n",
        "      optimizer=Adam(learning_rate=0.001),\n",
        "      metrics=['accuracy'])"
      ],
      "metadata": {
        "id": "4fmqRZSIpU0h"
      },
      "execution_count": 139,
      "outputs": []
    },
    {
      "cell_type": "code",
      "source": [
        "# 訓練資料中切出20%為驗證資料\n",
        "train_history = model.fit(x_train, y_train, validation_split=0.2, batch_size=128, epochs=20)"
      ],
      "metadata": {
        "colab": {
          "base_uri": "https://localhost:8080/"
        },
        "id": "q0Q8vPF1pkNJ",
        "outputId": "76f9894c-10d8-4751-e593-71e1396f8690"
      },
      "execution_count": 140,
      "outputs": [
        {
          "output_type": "stream",
          "name": "stdout",
          "text": [
            "Epoch 1/20\n",
            "\u001b[1m313/313\u001b[0m \u001b[32m━━━━━━━━━━━━━━━━━━━━\u001b[0m\u001b[37m\u001b[0m \u001b[1m7s\u001b[0m 15ms/step - accuracy: 0.3049 - loss: 1.9064 - val_accuracy: 0.4599 - val_loss: 1.5013\n",
            "Epoch 2/20\n",
            "\u001b[1m313/313\u001b[0m \u001b[32m━━━━━━━━━━━━━━━━━━━━\u001b[0m\u001b[37m\u001b[0m \u001b[1m2s\u001b[0m 7ms/step - accuracy: 0.5109 - loss: 1.3689 - val_accuracy: 0.5551 - val_loss: 1.2631\n",
            "Epoch 3/20\n",
            "\u001b[1m313/313\u001b[0m \u001b[32m━━━━━━━━━━━━━━━━━━━━\u001b[0m\u001b[37m\u001b[0m \u001b[1m2s\u001b[0m 6ms/step - accuracy: 0.5695 - loss: 1.2110 - val_accuracy: 0.5961 - val_loss: 1.1688\n",
            "Epoch 4/20\n",
            "\u001b[1m313/313\u001b[0m \u001b[32m━━━━━━━━━━━━━━━━━━━━\u001b[0m\u001b[37m\u001b[0m \u001b[1m3s\u001b[0m 7ms/step - accuracy: 0.6228 - loss: 1.0966 - val_accuracy: 0.6213 - val_loss: 1.0808\n",
            "Epoch 5/20\n",
            "\u001b[1m313/313\u001b[0m \u001b[32m━━━━━━━━━━━━━━━━━━━━\u001b[0m\u001b[37m\u001b[0m \u001b[1m2s\u001b[0m 7ms/step - accuracy: 0.6474 - loss: 1.0016 - val_accuracy: 0.6297 - val_loss: 1.0586\n",
            "Epoch 6/20\n",
            "\u001b[1m313/313\u001b[0m \u001b[32m━━━━━━━━━━━━━━━━━━━━\u001b[0m\u001b[37m\u001b[0m \u001b[1m2s\u001b[0m 7ms/step - accuracy: 0.6700 - loss: 0.9510 - val_accuracy: 0.6519 - val_loss: 1.0154\n",
            "Epoch 7/20\n",
            "\u001b[1m313/313\u001b[0m \u001b[32m━━━━━━━━━━━━━━━━━━━━\u001b[0m\u001b[37m\u001b[0m \u001b[1m2s\u001b[0m 6ms/step - accuracy: 0.6888 - loss: 0.8991 - val_accuracy: 0.6656 - val_loss: 0.9781\n",
            "Epoch 8/20\n",
            "\u001b[1m313/313\u001b[0m \u001b[32m━━━━━━━━━━━━━━━━━━━━\u001b[0m\u001b[37m\u001b[0m \u001b[1m2s\u001b[0m 6ms/step - accuracy: 0.7081 - loss: 0.8508 - val_accuracy: 0.6728 - val_loss: 0.9498\n",
            "Epoch 9/20\n",
            "\u001b[1m313/313\u001b[0m \u001b[32m━━━━━━━━━━━━━━━━━━━━\u001b[0m\u001b[37m\u001b[0m \u001b[1m2s\u001b[0m 6ms/step - accuracy: 0.7216 - loss: 0.8051 - val_accuracy: 0.6673 - val_loss: 0.9785\n",
            "Epoch 10/20\n",
            "\u001b[1m313/313\u001b[0m \u001b[32m━━━━━━━━━━━━━━━━━━━━\u001b[0m\u001b[37m\u001b[0m \u001b[1m2s\u001b[0m 7ms/step - accuracy: 0.7309 - loss: 0.7863 - val_accuracy: 0.6874 - val_loss: 0.9287\n",
            "Epoch 11/20\n",
            "\u001b[1m313/313\u001b[0m \u001b[32m━━━━━━━━━━━━━━━━━━━━\u001b[0m\u001b[37m\u001b[0m \u001b[1m2s\u001b[0m 7ms/step - accuracy: 0.7395 - loss: 0.7555 - val_accuracy: 0.6884 - val_loss: 0.9086\n",
            "Epoch 12/20\n",
            "\u001b[1m313/313\u001b[0m \u001b[32m━━━━━━━━━━━━━━━━━━━━\u001b[0m\u001b[37m\u001b[0m \u001b[1m2s\u001b[0m 6ms/step - accuracy: 0.7498 - loss: 0.7295 - val_accuracy: 0.6929 - val_loss: 0.8980\n",
            "Epoch 13/20\n",
            "\u001b[1m313/313\u001b[0m \u001b[32m━━━━━━━━━━━━━━━━━━━━\u001b[0m\u001b[37m\u001b[0m \u001b[1m3s\u001b[0m 6ms/step - accuracy: 0.7604 - loss: 0.6977 - val_accuracy: 0.6955 - val_loss: 0.8893\n",
            "Epoch 14/20\n",
            "\u001b[1m313/313\u001b[0m \u001b[32m━━━━━━━━━━━━━━━━━━━━\u001b[0m\u001b[37m\u001b[0m \u001b[1m3s\u001b[0m 7ms/step - accuracy: 0.7690 - loss: 0.6720 - val_accuracy: 0.7020 - val_loss: 0.8957\n",
            "Epoch 15/20\n",
            "\u001b[1m313/313\u001b[0m \u001b[32m━━━━━━━━━━━━━━━━━━━━\u001b[0m\u001b[37m\u001b[0m \u001b[1m2s\u001b[0m 7ms/step - accuracy: 0.7766 - loss: 0.6450 - val_accuracy: 0.6955 - val_loss: 0.9119\n",
            "Epoch 16/20\n",
            "\u001b[1m313/313\u001b[0m \u001b[32m━━━━━━━━━━━━━━━━━━━━\u001b[0m\u001b[37m\u001b[0m \u001b[1m3s\u001b[0m 7ms/step - accuracy: 0.7794 - loss: 0.6271 - val_accuracy: 0.6989 - val_loss: 0.9046\n",
            "Epoch 17/20\n",
            "\u001b[1m313/313\u001b[0m \u001b[32m━━━━━━━━━━━━━━━━━━━━\u001b[0m\u001b[37m\u001b[0m \u001b[1m2s\u001b[0m 7ms/step - accuracy: 0.7904 - loss: 0.6094 - val_accuracy: 0.6929 - val_loss: 0.9291\n",
            "Epoch 18/20\n",
            "\u001b[1m313/313\u001b[0m \u001b[32m━━━━━━━━━━━━━━━━━━━━\u001b[0m\u001b[37m\u001b[0m \u001b[1m3s\u001b[0m 7ms/step - accuracy: 0.7916 - loss: 0.5972 - val_accuracy: 0.6969 - val_loss: 0.9112\n",
            "Epoch 19/20\n",
            "\u001b[1m313/313\u001b[0m \u001b[32m━━━━━━━━━━━━━━━━━━━━\u001b[0m\u001b[37m\u001b[0m \u001b[1m2s\u001b[0m 7ms/step - accuracy: 0.8054 - loss: 0.5749 - val_accuracy: 0.7070 - val_loss: 0.8954\n",
            "Epoch 20/20\n",
            "\u001b[1m313/313\u001b[0m \u001b[32m━━━━━━━━━━━━━━━━━━━━\u001b[0m\u001b[37m\u001b[0m \u001b[1m2s\u001b[0m 6ms/step - accuracy: 0.8062 - loss: 0.5601 - val_accuracy: 0.7038 - val_loss: 0.9243\n"
          ]
        }
      ]
    },
    {
      "cell_type": "markdown",
      "source": [
        "# 四、以圖型顯示準確率(accuracy)與損失(loss)"
      ],
      "metadata": {
        "id": "WYQ0W3yPr163"
      }
    },
    {
      "cell_type": "code",
      "source": [
        "# 畫出訓練過程每一個epoch訓練資料與驗證資料各自準確率(accuracy)的變化，或者損失誤差(loss)的變化\n",
        "def show_train_history(train_history,train,validation):\n",
        "    plt.plot(train_history.history[train])\n",
        "    plt.plot(train_history.history[validation])\n",
        "    plt.title('Train History')\n",
        "    plt.ylabel(train)\n",
        "    plt.xlabel('Epoch')\n",
        "    plt.legend(['train', 'validation'], loc='upper left')\n",
        "    plt.show()"
      ],
      "metadata": {
        "id": "pG8A2sHcr23F"
      },
      "execution_count": 141,
      "outputs": []
    },
    {
      "cell_type": "code",
      "source": [
        "# 準確率accuracy\n",
        "show_train_history(train_history,'accuracy','val_accuracy')\n",
        "\n",
        "# 從圖型可以看出有overfitting情形，訓練資料準確率持續上升但驗證資料卻表現不佳"
      ],
      "metadata": {
        "colab": {
          "base_uri": "https://localhost:8080/",
          "height": 472
        },
        "id": "7tMhOAULt5JV",
        "outputId": "99e4f56c-b31b-48e1-ce91-c743e1a934e6"
      },
      "execution_count": 142,
      "outputs": [
        {
          "output_type": "display_data",
          "data": {
            "text/plain": [
              "<Figure size 640x480 with 1 Axes>"
            ],
            "image/png": "[encoded data removed]"
          },
          "metadata": {}
        }
      ]
    },
    {
      "cell_type": "code",
      "source": [
        "# 損失誤差loss\n",
        "show_train_history(train_history,'loss','val_loss')"
      ],
      "metadata": {
        "colab": {
          "base_uri": "https://localhost:8080/",
          "height": 472
        },
        "id": "UmSo5kFewEKG",
        "outputId": "730ac2b0-9e23-4561-c54f-1dbd3013943d"
      },
      "execution_count": 143,
      "outputs": [
        {
          "output_type": "display_data",
          "data": {
            "text/plain": [
              "<Figure size 640x480 with 1 Axes>"
            ],
            "image/png": "[encoded data removed]"
          },
          "metadata": {}
        }
      ]
    },
    {
      "cell_type": "markdown",
      "source": [
        "# 五、評估模型準確率"
      ],
      "metadata": {
        "id": "dgqmVL2eujxA"
      }
    },
    {
      "cell_type": "code",
      "source": [
        "scores = model.evaluate(x_test, y_test)\n",
        "print()\n",
        "print('accuracy=',scores[1])"
      ],
      "metadata": {
        "colab": {
          "base_uri": "https://localhost:8080/"
        },
        "id": "5J87-XwqulDY",
        "outputId": "de858c07-7589-4e13-defc-166286180a9c"
      },
      "execution_count": 144,
      "outputs": [
        {
          "output_type": "stream",
          "name": "stdout",
          "text": [
            "\u001b[1m313/313\u001b[0m \u001b[32m━━━━━━━━━━━━━━━━━━━━\u001b[0m\u001b[37m\u001b[0m \u001b[1m1s\u001b[0m 3ms/step - accuracy: 0.7017 - loss: 0.9308\n",
            "\n",
            "accuracy= 0.6955000162124634\n"
          ]
        }
      ]
    },
    {
      "cell_type": "markdown",
      "source": [
        "# 六、進行預測"
      ],
      "metadata": {
        "id": "-tMIbGHHu0qj"
      }
    },
    {
      "cell_type": "code",
      "source": [
        "# 一次呈現數張測試資料(圖片)、預測結果與真實結果\n",
        "def plot_images_labels_prediction(images, labels_onehot, prediction, idx, num=10):\n",
        "    fig = plt.gcf()\n",
        "    fig.set_size_inches(12, 14)\n",
        "    if num > 25: num = 25\n",
        "\n",
        "    labels = np.argmax(labels_onehot, axis=1)     # 將 one-hot 轉成標籤\n",
        "    pred_labels = np.argmax(prediction, axis=1)    # 預測結果轉成標籤\n",
        "\n",
        "    for i in range(0, num):\n",
        "        ax = plt.subplot(5, 5, 1 + i)\n",
        "        ax.imshow(images[idx])\n",
        "\n",
        "        title = \"label=\" + str(labels_name[labels[idx]]) + \"\\n\"\n",
        "        title += \"predict=\" + str(labels_name[pred_labels[idx]])\n",
        "\n",
        "        ax.set_title(title, fontsize=10)\n",
        "        ax.set_xticks([]); ax.set_yticks([])\n",
        "        idx += 1\n",
        "    plt.show()"
      ],
      "metadata": {
        "id": "DOTLVX-Hu3Sg"
      },
      "execution_count": 145,
      "outputs": []
    },
    {
      "cell_type": "code",
      "source": [
        "prediction = model.predict(x_test)\n",
        "plot_images_labels_prediction(x_test,y_test,prediction,idx=0,num=20)"
      ],
      "metadata": {
        "colab": {
          "base_uri": "https://localhost:8080/",
          "height": 918
        },
        "id": "6thLN86Ku6q1",
        "outputId": "47f4fad0-131c-4002-918e-8df9cd553ffa"
      },
      "execution_count": 146,
      "outputs": [
        {
          "output_type": "stream",
          "name": "stdout",
          "text": [
            "\u001b[1m313/313\u001b[0m \u001b[32m━━━━━━━━━━━━━━━━━━━━\u001b[0m\u001b[37m\u001b[0m \u001b[1m1s\u001b[0m 2ms/step\n"
          ]
        },
        {
          "output_type": "display_data",
          "data": {
            "text/plain": [
              "<Figure size 1200x1400 with 20 Axes>"
            ],
            "image/png": "[encoded data removed]"
          },
          "metadata": {}
        }
      ]
    },
    {
      "cell_type": "markdown",
      "source": [
        "# 七、confusion matrix (混淆矩陣)"
      ],
      "metadata": {
        "id": "a2IVyxccygHa"
      }
    },
    {
      "cell_type": "code",
      "source": [
        "import pandas as pd\n",
        "\n",
        "# 把 one-hot y_test 轉換為整數標籤\n",
        "true_labels = np.argmax(y_test, axis=1)\n",
        "\n",
        "# 將10000個預測結果一一轉換為\n",
        "predicted_labels = np.argmax(prediction, axis=1)\n",
        "\n",
        "# Now use predicted_labels in crosstab\n",
        "pd.crosstab(true_labels, predicted_labels, rownames=['label'], colnames=['predict'])"
      ],
      "metadata": {
        "colab": {
          "base_uri": "https://localhost:8080/",
          "height": 394
        },
        "id": "UjL0qJ_1yg2I",
        "outputId": "b3ec84a5-0d35-4ce8-bb32-6ca6c058c7be"
      },
      "execution_count": 147,
      "outputs": [
        {
          "output_type": "execute_result",
          "data": {
            "text/plain": [
              "predict    0    1    2    3    4    5    6    7    8    9\n",
              "label                                                    \n",
              "0        690   23   40   38   26   12   10   10   90   61\n",
              "1         12  755    6   12    3    9   12    2   41  148\n",
              "2         56    8  490   95  138   76   70   30   24   13\n",
              "3         16    8   43  552   74  166   70   23   21   27\n",
              "4         12    6   43   76  708   41   53   39   19    3\n",
              "5          8    2   31  202   55  611   21   31   18   21\n",
              "6          4    3   37   82   64   27  749    4   13   17\n",
              "7         14    3   29   63  102   58    7  693   11   20\n",
              "8         47   25    9   14    7    7    5    3  849   34\n",
              "9         22   42    4   16   11    5    7   12   23  858"
            ],
            "text/html": [
              "\n",
              "  <div id=\"df-dcd0c7d3-b5dc-4f5c-9355-bec54d7cbfc2\" class=\"colab-df-container\">\n",
              "    <div>\n",
              "<style scoped>\n",
              "    .dataframe tbody tr th:only-of-type {\n",
              "        vertical-align: middle;\n",
              "    }\n",
              "\n",
              "    .dataframe tbody tr th {\n",
              "        vertical-align: top;\n",
              "    }\n",
              "\n",
              "    .dataframe thead th {\n",
              "        text-align: right;\n",
              "    }\n",
              "</style>\n",
              "<table border=\"1\" class=\"dataframe\">\n",
              "  <thead>\n",
              "    <tr style=\"text-align: right;\">\n",
              "      <th>predict</th>\n",
              "      <th>0</th>\n",
              "      <th>1</th>\n",
              "      <th>2</th>\n",
              "      <th>3</th>\n",
              "      <th>4</th>\n",
              "      <th>5</th>\n",
              "      <th>6</th>\n",
              "      <th>7</th>\n",
              "      <th>8</th>\n",
              "      <th>9</th>\n",
              "    </tr>\n",
              "    <tr>\n",
              "      <th>label</th>\n",
              "      <th></th>\n",
              "      <th></th>\n",
              "      <th></th>\n",
              "      <th></th>\n",
              "      <th></th>\n",
              "      <th></th>\n",
              "      <th></th>\n",
              "      <th></th>\n",
              "      <th></th>\n",
              "      <th></th>\n",
              "    </tr>\n",
              "  </thead>\n",
              "  <tbody>\n",
              "    <tr>\n",
              "      <th>0</th>\n",
              "      <td>690</td>\n",
              "      <td>23</td>\n",
              "      <td>40</td>\n",
              "      <td>38</td>\n",
              "      <td>26</td>\n",
              "      <td>12</td>\n",
              "      <td>10</td>\n",
              "      <td>10</td>\n",
              "      <td>90</td>\n",
              "      <td>61</td>\n",
              "    </tr>\n",
              "    <tr>\n",
              "      <th>1</th>\n",
              "      <td>12</td>\n",
              "      <td>755</td>\n",
              "      <td>6</td>\n",
              "      <td>12</td>\n",
              "      <td>3</td>\n",
              "      <td>9</td>\n",
              "      <td>12</td>\n",
              "      <td>2</td>\n",
              "      <td>41</td>\n",
              "      <td>148</td>\n",
              "    </tr>\n",
              "    <tr>\n",
              "      <th>2</th>\n",
              "      <td>56</td>\n",
              "      <td>8</td>\n",
              "      <td>490</td>\n",
              "      <td>95</td>\n",
              "      <td>138</td>\n",
              "      <td>76</td>\n",
              "      <td>70</td>\n",
              "      <td>30</td>\n",
              "      <td>24</td>\n",
              "      <td>13</td>\n",
              "    </tr>\n",
              "    <tr>\n",
              "      <th>3</th>\n",
              "      <td>16</td>\n",
              "      <td>8</td>\n",
              "      <td>43</td>\n",
              "      <td>552</td>\n",
              "      <td>74</td>\n",
              "      <td>166</td>\n",
              "      <td>70</td>\n",
              "      <td>23</td>\n",
              "      <td>21</td>\n",
              "      <td>27</td>\n",
              "    </tr>\n",
              "    <tr>\n",
              "      <th>4</th>\n",
              "      <td>12</td>\n",
              "      <td>6</td>\n",
              "      <td>43</td>\n",
              "      <td>76</td>\n",
              "      <td>708</td>\n",
              "      <td>41</td>\n",
              "      <td>53</td>\n",
              "      <td>39</td>\n",
              "      <td>19</td>\n",
              "      <td>3</td>\n",
              "    </tr>\n",
              "    <tr>\n",
              "      <th>5</th>\n",
              "      <td>8</td>\n",
              "      <td>2</td>\n",
              "      <td>31</td>\n",
              "      <td>202</td>\n",
              "      <td>55</td>\n",
              "      <td>611</td>\n",
              "      <td>21</td>\n",
              "      <td>31</td>\n",
              "      <td>18</td>\n",
              "      <td>21</td>\n",
              "    </tr>\n",
              "    <tr>\n",
              "      <th>6</th>\n",
              "      <td>4</td>\n",
              "      <td>3</td>\n",
              "      <td>37</td>\n",
              "      <td>82</td>\n",
              "      <td>64</td>\n",
              "      <td>27</td>\n",
              "      <td>749</td>\n",
              "      <td>4</td>\n",
              "      <td>13</td>\n",
              "      <td>17</td>\n",
              "    </tr>\n",
              "    <tr>\n",
              "      <th>7</th>\n",
              "      <td>14</td>\n",
              "      <td>3</td>\n",
              "      <td>29</td>\n",
              "      <td>63</td>\n",
              "      <td>102</td>\n",
              "      <td>58</td>\n",
              "      <td>7</td>\n",
              "      <td>693</td>\n",
              "      <td>11</td>\n",
              "      <td>20</td>\n",
              "    </tr>\n",
              "    <tr>\n",
              "      <th>8</th>\n",
              "      <td>47</td>\n",
              "      <td>25</td>\n",
              "      <td>9</td>\n",
              "      <td>14</td>\n",
              "      <td>7</td>\n",
              "      <td>7</td>\n",
              "      <td>5</td>\n",
              "      <td>3</td>\n",
              "      <td>849</td>\n",
              "      <td>34</td>\n",
              "    </tr>\n",
              "    <tr>\n",
              "      <th>9</th>\n",
              "      <td>22</td>\n",
              "      <td>42</td>\n",
              "      <td>4</td>\n",
              "      <td>16</td>\n",
              "      <td>11</td>\n",
              "      <td>5</td>\n",
              "      <td>7</td>\n",
              "      <td>12</td>\n",
              "      <td>23</td>\n",
              "      <td>858</td>\n",
              "    </tr>\n",
              "  </tbody>\n",
              "</table>\n",
              "</div>\n",
              "    <div class=\"colab-df-buttons\">\n",
              "\n",
              "  <div class=\"colab-df-container\">\n",
              "    <button class=\"colab-df-convert\" onclick=\"convertToInteractive('df-dcd0c7d3-b5dc-4f5c-9355-bec54d7cbfc2')\"\n",
              "            title=\"Convert this dataframe to an interactive table.\"\n",
              "            style=\"display:none;\">\n",
              "\n",
              "  <svg xmlns=\"http://www.w3.org/2000/svg\" height=\"24px\" viewBox=\"0 -960 960 960\">\n",
              "    <path d=\"M120-120v-720h720v720H120Zm60-500h600v-160H180v160Zm220 220h160v-160H400v160Zm0 220h160v-160H400v160ZM180-400h160v-160H180v160Zm440 0h160v-160H620v160ZM180-180h160v-160H180v160Zm440 0h160v-160H620v160Z\"/>\n",
              "  </svg>\n",
              "    </button>\n",
              "\n",
              "  <style>\n",
              "    .colab-df-container {\n",
              "      display:flex;\n",
              "      gap: 12px;\n",
              "    }\n",
              "\n",
              "    .colab-df-convert {\n",
              "      background-color: #E8F0FE;\n",
              "      border: none;\n",
              "      border-radius: 50%;\n",
              "      cursor: pointer;\n",
              "      display: none;\n",
              "      fill: #1967D2;\n",
              "      height: 32px;\n",
              "      padding: 0 0 0 0;\n",
              "      width: 32px;\n",
              "    }\n",
              "\n",
              "    .colab-df-convert:hover {\n",
              "      background-color: #E2EBFA;\n",
              "      box-shadow: 0px 1px 2px rgba(60, 64, 67, 0.3), 0px 1px 3px 1px rgba(60, 64, 67, 0.15);\n",
              "      fill: #174EA6;\n",
              "    }\n",
              "\n",
              "    .colab-df-buttons div {\n",
              "      margin-bottom: 4px;\n",
              "    }\n",
              "\n",
              "    [theme=dark] .colab-df-convert {\n",
              "      background-color: #3B4455;\n",
              "      fill: #D2E3FC;\n",
              "    }\n",
              "\n",
              "    [theme=dark] .colab-df-convert:hover {\n",
              "      background-color: #434B5C;\n",
              "      box-shadow: 0px 1px 3px 1px rgba(0, 0, 0, 0.15);\n",
              "      filter: drop-shadow(0px 1px 2px rgba(0, 0, 0, 0.3));\n",
              "      fill: #FFFFFF;\n",
              "    }\n",
              "  </style>\n",
              "\n",
              "    <script>\n",
              "      const buttonEl =\n",
              "        document.querySelector('#df-dcd0c7d3-b5dc-4f5c-9355-bec54d7cbfc2 button.colab-df-convert');\n",
              "      buttonEl.style.display =\n",
              "        google.colab.kernel.accessAllowed ? 'block' : 'none';\n",
              "\n",
              "      async function convertToInteractive(key) {\n",
              "        const element = document.querySelector('#df-dcd0c7d3-b5dc-4f5c-9355-bec54d7cbfc2');\n",
              "        const dataTable =\n",
              "          await google.colab.kernel.invokeFunction('convertToInteractive',\n",
              "                                                    [key], {});\n",
              "        if (!dataTable) return;\n",
              "\n",
              "        const docLinkHtml = 'Like what you see? Visit the ' +\n",
              "          '<a target=\"_blank\" href=https://colab.research.google.com/notebooks/data_table.ipynb>data table notebook</a>'\n",
              "          + ' to learn more about interactive tables.';\n",
              "        element.innerHTML = '';\n",
              "        dataTable['output_type'] = 'display_data';\n",
              "        await google.colab.output.renderOutput(dataTable, element);\n",
              "        const docLink = document.createElement('div');\n",
              "        docLink.innerHTML = docLinkHtml;\n",
              "        element.appendChild(docLink);\n",
              "      }\n",
              "    </script>\n",
              "  </div>\n",
              "\n",
              "\n",
              "<div id=\"df-44786e81-0c67-4a25-ae0a-bdb9af2727db\">\n",
              "  <button class=\"colab-df-quickchart\" onclick=\"quickchart('df-44786e81-0c67-4a25-ae0a-bdb9af2727db')\"\n",
              "            title=\"Suggest charts\"\n",
              "            style=\"display:none;\">\n",
              "\n",
              "<svg xmlns=\"http://www.w3.org/2000/svg\" height=\"24px\"viewBox=\"0 0 24 24\"\n",
              "     width=\"24px\">\n",
              "    <g>\n",
              "        <path d=\"M19 3H5c-1.1 0-2 .9-2 2v14c0 1.1.9 2 2 2h14c1.1 0 2-.9 2-2V5c0-1.1-.9-2-2-2zM9 17H7v-7h2v7zm4 0h-2V7h2v10zm4 0h-2v-4h2v4z\"/>\n",
              "    </g>\n",
              "</svg>\n",
              "  </button>\n",
              "\n",
              "<style>\n",
              "  .colab-df-quickchart {\n",
              "      --bg-color: #E8F0FE;\n",
              "      --fill-color: #1967D2;\n",
              "      --hover-bg-color: #E2EBFA;\n",
              "      --hover-fill-color: #174EA6;\n",
              "      --disabled-fill-color: #AAA;\n",
              "      --disabled-bg-color: #DDD;\n",
              "  }\n",
              "\n",
              "  [theme=dark] .colab-df-quickchart {\n",
              "      --bg-color: #3B4455;\n",
              "      --fill-color: #D2E3FC;\n",
              "      --hover-bg-color: #434B5C;\n",
              "      --hover-fill-color: #FFFFFF;\n",
              "      --disabled-bg-color: #3B4455;\n",
              "      --disabled-fill-color: #666;\n",
              "  }\n",
              "\n",
              "  .colab-df-quickchart {\n",
              "    background-color: var(--bg-color);\n",
              "    border: none;\n",
              "    border-radius: 50%;\n",
              "    cursor: pointer;\n",
              "    display: none;\n",
              "    fill: var(--fill-color);\n",
              "    height: 32px;\n",
              "    padding: 0;\n",
              "    width: 32px;\n",
              "  }\n",
              "\n",
              "  .colab-df-quickchart:hover {\n",
              "    background-color: var(--hover-bg-color);\n",
              "    box-shadow: 0 1px 2px rgba(60, 64, 67, 0.3), 0 1px 3px 1px rgba(60, 64, 67, 0.15);\n",
              "    fill: var(--button-hover-fill-color);\n",
              "  }\n",
              "\n",
              "  .colab-df-quickchart-complete:disabled,\n",
              "  .colab-df-quickchart-complete:disabled:hover {\n",
              "    background-color: var(--disabled-bg-color);\n",
              "    fill: var(--disabled-fill-color);\n",
              "    box-shadow: none;\n",
              "  }\n",
              "\n",
              "  .colab-df-spinner {\n",
              "    border: 2px solid var(--fill-color);\n",
              "    border-color: transparent;\n",
              "    border-bottom-color: var(--fill-color);\n",
              "    animation:\n",
              "      spin 1s steps(1) infinite;\n",
              "  }\n",
              "\n",
              "  @keyframes spin {\n",
              "    0% {\n",
              "      border-color: transparent;\n",
              "      border-bottom-color: var(--fill-color);\n",
              "      border-left-color: var(--fill-color);\n",
              "    }\n",
              "    20% {\n",
              "      border-color: transparent;\n",
              "      border-left-color: var(--fill-color);\n",
              "      border-top-color: var(--fill-color);\n",
              "    }\n",
              "    30% {\n",
              "      border-color: transparent;\n",
              "      border-left-color: var(--fill-color);\n",
              "      border-top-color: var(--fill-color);\n",
              "      border-right-color: var(--fill-color);\n",
              "    }\n",
              "    40% {\n",
              "      border-color: transparent;\n",
              "      border-right-color: var(--fill-color);\n",
              "      border-top-color: var(--fill-color);\n",
              "    }\n",
              "    60% {\n",
              "      border-color: transparent;\n",
              "      border-right-color: var(--fill-color);\n",
              "    }\n",
              "    80% {\n",
              "      border-color: transparent;\n",
              "      border-right-color: var(--fill-color);\n",
              "      border-bottom-color: var(--fill-color);\n",
              "    }\n",
              "    90% {\n",
              "      border-color: transparent;\n",
              "      border-bottom-color: var(--fill-color);\n",
              "    }\n",
              "  }\n",
              "</style>\n",
              "\n",
              "  <script>\n",
              "    async function quickchart(key) {\n",
              "      const quickchartButtonEl =\n",
              "        document.querySelector('#' + key + ' button');\n",
              "      quickchartButtonEl.disabled = true;  // To prevent multiple clicks.\n",
              "      quickchartButtonEl.classList.add('colab-df-spinner');\n",
              "      try {\n",
              "        const charts = await google.colab.kernel.invokeFunction(\n",
              "            'suggestCharts', [key], {});\n",
              "      } catch (error) {\n",
              "        console.error('Error during call to suggestCharts:', error);\n",
              "      }\n",
              "      quickchartButtonEl.classList.remove('colab-df-spinner');\n",
              "      quickchartButtonEl.classList.add('colab-df-quickchart-complete');\n",
              "    }\n",
              "    (() => {\n",
              "      let quickchartButtonEl =\n",
              "        document.querySelector('#df-44786e81-0c67-4a25-ae0a-bdb9af2727db button');\n",
              "      quickchartButtonEl.style.display =\n",
              "        google.colab.kernel.accessAllowed ? 'block' : 'none';\n",
              "    })();\n",
              "  </script>\n",
              "</div>\n",
              "\n",
              "    </div>\n",
              "  </div>\n"
            ],
            "application/vnd.google.colaboratory.intrinsic+json": {
              "type": "dataframe",
              "summary": "{\n  \"name\": \"pd\",\n  \"rows\": 10,\n  \"fields\": [\n    {\n      \"column\": \"label\",\n      \"properties\": {\n        \"dtype\": \"number\",\n        \"std\": 3,\n        \"min\": 0,\n        \"max\": 9,\n        \"num_unique_values\": 10,\n        \"samples\": [\n          8,\n          1,\n          5\n        ],\n        \"semantic_type\": \"\",\n        \"description\": \"\"\n      }\n    },\n    {\n      \"column\": 0,\n      \"properties\": {\n        \"dtype\": \"number\",\n        \"std\": 212,\n        \"min\": 4,\n        \"max\": 690,\n        \"num_unique_values\": 9,\n        \"samples\": [\n          47,\n          12,\n          4\n        ],\n        \"semantic_type\": \"\",\n        \"description\": \"\"\n      }\n    },\n    {\n      \"column\": 1,\n      \"properties\": {\n        \"dtype\": \"number\",\n        \"std\": 234,\n        \"min\": 2,\n        \"max\": 755,\n        \"num_unique_values\": 8,\n        \"samples\": [\n          755,\n          3,\n          23\n        ],\n        \"semantic_type\": \"\",\n        \"description\": \"\"\n      }\n    },\n    {\n      \"column\": 2,\n      \"properties\": {\n        \"dtype\": \"number\",\n        \"std\": 147,\n        \"min\": 4,\n        \"max\": 490,\n        \"num_unique_values\": 9,\n        \"samples\": [\n          9,\n          6,\n          37\n        ],\n        \"semantic_type\": \"\",\n        \"description\": \"\"\n      }\n    },\n    {\n      \"column\": 3,\n      \"properties\": {\n        \"dtype\": \"number\",\n        \"std\": 163,\n        \"min\": 12,\n        \"max\": 552,\n        \"num_unique_values\": 10,\n        \"samples\": [\n          14,\n          12,\n          202\n        ],\n        \"semantic_type\": \"\",\n        \"description\": \"\"\n      }\n    },\n    {\n      \"column\": 4,\n      \"properties\": {\n        \"dtype\": \"number\",\n        \"std\": 211,\n        \"min\": 3,\n        \"max\": 708,\n        \"num_unique_values\": 10,\n        \"samples\": [\n          7,\n          3,\n          55\n        ],\n        \"semantic_type\": \"\",\n        \"description\": \"\"\n      }\n    },\n    {\n      \"column\": 5,\n      \"properties\": {\n        \"dtype\": \"number\",\n        \"std\": 185,\n        \"min\": 5,\n        \"max\": 611,\n        \"num_unique_values\": 10,\n        \"samples\": [\n          7,\n          9,\n          611\n        ],\n        \"semantic_type\": \"\",\n        \"description\": \"\"\n      }\n    },\n    {\n      \"column\": 6,\n      \"properties\": {\n        \"dtype\": \"number\",\n        \"std\": 229,\n        \"min\": 5,\n        \"max\": 749,\n        \"num_unique_values\": 8,\n        \"samples\": [\n          12,\n          749,\n          10\n        ],\n        \"semantic_type\": \"\",\n        \"description\": \"\"\n      }\n    },\n    {\n      \"column\": 7,\n      \"properties\": {\n        \"dtype\": \"number\",\n        \"std\": 214,\n        \"min\": 2,\n        \"max\": 693,\n        \"num_unique_values\": 10,\n        \"samples\": [\n          3,\n          2,\n          31\n        ],\n        \"semantic_type\": \"\",\n        \"description\": \"\"\n      }\n    },\n    {\n      \"column\": 8,\n      \"properties\": {\n        \"dtype\": \"number\",\n        \"std\": 260,\n        \"min\": 11,\n        \"max\": 849,\n        \"num_unique_values\": 10,\n        \"samples\": [\n          849,\n          41,\n          18\n        ],\n        \"semantic_type\": \"\",\n        \"description\": \"\"\n      }\n    },\n    {\n      \"column\": 9,\n      \"properties\": {\n        \"dtype\": \"number\",\n        \"std\": 262,\n        \"min\": 3,\n        \"max\": 858,\n        \"num_unique_values\": 10,\n        \"samples\": [\n          34,\n          148,\n          21\n        ],\n        \"semantic_type\": \"\",\n        \"description\": \"\"\n      }\n    }\n  ]\n}"
            }
          },
          "metadata": {},
          "execution_count": 147
        }
      ]
    },
    {
      "cell_type": "markdown",
      "source": [
        "# 八、儲存模型"
      ],
      "metadata": {
        "id": "Y-PSbCg6zNOS"
      }
    },
    {
      "cell_type": "code",
      "source": [
        "model.save('hw4-1.keras')"
      ],
      "metadata": {
        "id": "LqsUWO1KzOOE"
      },
      "execution_count": 148,
      "outputs": []
    },
    {
      "cell_type": "markdown",
      "source": [
        "# 九、 interact_manual"
      ],
      "metadata": {
        "id": "Ip-xPkZLzi_0"
      }
    },
    {
      "cell_type": "code",
      "source": [
        "y_predict = np.argmax(prediction, axis=1)\n",
        "from ipywidgets import interact_manual\n",
        "def test(test):\n",
        "  plt.imshow(x_test[test], cmap='Greys')\n",
        "  print('神經網路判斷為：', str(labels_name[y_predict[test]]))"
      ],
      "metadata": {
        "id": "yaOqq3flzrWW"
      },
      "execution_count": 149,
      "outputs": []
    },
    {
      "cell_type": "code",
      "source": [
        "interact_manual(test, test=(0, 9999))"
      ],
      "metadata": {
        "colab": {
          "base_uri": "https://localhost:8080/",
          "height": 598,
          "referenced_widgets": [
            "19748b2915614086836fc62f76ef5666",
            "6a93d862c08747338f2689e3f9b03188",
            "bc3feb5bd86f47839ea91f04c5ecd452",
            "ad1e05ed5ac5418ba0cc33e3d80e11bd",
            "0b4aca4e51e04a63bd0c47284837734b",
            "8e9978b8de844deb8acd6fe85a907a62",
            "f2c229114aa04aa599662a8be99771be",
            "8716be0906a04335bdd3e70175695dc3",
            "0d27a052bbc546febecb52736ebaa959",
            "b7103148861846249bc236d1c17fb0a0"
          ]
        },
        "id": "CJ0AksyJ0CJz",
        "outputId": "e1e5872b-b5e4-492d-afdb-a620d0dbb54d"
      },
      "execution_count": 150,
      "outputs": [
        {
          "output_type": "display_data",
          "data": {
            "text/plain": [
              "interactive(children=(IntSlider(value=4999, description='test', max=9999), Button(description='Run Interact', …"
            ],
            "application/vnd.jupyter.widget-view+json": {
              "version_major": 2,
              "version_minor": 0,
              "model_id": "19748b2915614086836fc62f76ef5666"
            }
          },
          "metadata": {}
        },
        {
          "output_type": "execute_result",
          "data": {
            "text/plain": [
              "<function __main__.test(test)>"
            ],
            "text/html": [
              "<div style=\"max-width:800px; border: 1px solid var(--colab-border-color);\"><style>\n",
              "      pre.function-repr-contents {\n",
              "        overflow-x: auto;\n",
              "        padding: 8px 12px;\n",
              "        max-height: 500px;\n",
              "      }\n",
              "\n",
              "      pre.function-repr-contents.function-repr-contents-collapsed {\n",
              "        cursor: pointer;\n",
              "        max-height: 100px;\n",
              "      }\n",
              "    </style>\n",
              "    <pre style=\"white-space: initial; background:\n",
              "         var(--colab-secondary-surface-color); padding: 8px 12px;\n",
              "         border-bottom: 1px solid var(--colab-border-color);\"><b>test</b><br/>def test(test)</pre><pre class=\"function-repr-contents function-repr-contents-collapsed\" style=\"\"><a class=\"filepath\" style=\"display:none\" href=\"#\">/content/&lt;ipython-input-149-d9eba033f718&gt;</a>&lt;no docstring&gt;</pre></div>"
            ]
          },
          "metadata": {},
          "execution_count": 150
        }
      ]
    }
  ]
}