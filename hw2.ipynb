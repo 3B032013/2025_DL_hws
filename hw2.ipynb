{
  "nbformat": 4,
  "nbformat_minor": 0,
  "metadata": {
    "colab": {
      "provenance": [],
      "toc_visible": true,
      "authorship_tag": "ABX9TyOZ1gMeOs0jvgiXTllMckS4",
      "include_colab_link": true
    },
    "kernelspec": {
      "name": "python3",
      "display_name": "Python 3"
    },
    "language_info": {
      "name": "python"
    }
  },
  "cells": [
    {
      "cell_type": "markdown",
      "metadata": {
        "id": "view-in-github",
        "colab_type": "text"
      },
      "source": [
        "<a href=\"https://colab.research.google.com/github/3B032013/2025_ML_hws/blob/main/hw2.ipynb\" target=\"_parent\"><img src=\"https://colab.research.google.com/assets/colab-badge.svg\" alt=\"Open In Colab\"/></a>"
      ]
    },
    {
      "cell_type": "markdown",
      "source": [
        "# 作業2 - (第四週)"
      ],
      "metadata": {
        "id": "7jsRIkPAqRMH"
      }
    },
    {
      "cell_type": "markdown",
      "source": [
        "## *題組1 多隱藏層的全連接神經網路 \"批次學習\""
      ],
      "metadata": {
        "id": "FSx2DbyVq8U0"
      }
    },
    {
      "cell_type": "markdown",
      "source": [
        "## 1-1 各激發函數定義(Sigmoid、ReLU、Softmax)"
      ],
      "metadata": {
        "id": "UfYL4djLqdhV"
      }
    },
    {
      "cell_type": "code",
      "execution_count": 1,
      "metadata": {
        "id": "a6ZHTBu9qMhm"
      },
      "outputs": [],
      "source": [
        "import numpy as np\n",
        "# Sigmoid激發函數\n",
        "def sigmoid(x):\n",
        "  return 1/(1+np.exp(-x))\n",
        "\n",
        "# ReLU激發函數\n",
        "def relu(x):\n",
        "  return np.maximum(0, x)\n",
        "\n",
        "# Softmax激發函數\n",
        "def softmax(x):\n",
        "  x = x - np.max(x, axis=-1, keepdims=True)\n",
        "  return np.exp(x) / np.sum(np.exp(x), axis=-1, keepdims=True)"
      ]
    },
    {
      "cell_type": "markdown",
      "source": [
        "## 1-2 輸入層設定批次輸入5筆資料 每筆6個神經元"
      ],
      "metadata": {
        "id": "rYeZncTNrLEe"
      }
    },
    {
      "cell_type": "code",
      "source": [
        "# 批次輸入5筆資料\n",
        "batch_size=5\n",
        "\n",
        "# 每筆6個神經元 所以共5*6=30\n",
        "X=np.array([[10.0, 8.0, 11.0, 4.0, 3.0, 0.0],\n",
        "    [-16.0, 4.0, -10.0, 8.0, 10.0, 12.0],\n",
        "    [1.0, 3.0, -9.0, 7.0, 9.0, 11.0],\n",
        "    [8.0, 6.0, 4.0, -4.0, 4.0, -6.0],\n",
        "    [2.0, -3.0, 4.0, 5.0, -6.0, 7.0]])\n",
        "\n",
        "# 真實結果\n",
        "Y=np.array([[0, 0, 1], [1, 0, 0], [0, 1, 0], [0, 0, 1], [1, 0, 0]])"
      ],
      "metadata": {
        "id": "NYxBkgaarOzP"
      },
      "execution_count": 2,
      "outputs": []
    },
    {
      "cell_type": "markdown",
      "source": [
        "## 1-3 第一隱藏層有5個神經元 激發函數使用ReLU"
      ],
      "metadata": {
        "id": "rkYEly6qsmC9"
      }
    },
    {
      "cell_type": "code",
      "source": [
        "W1=np.array([[0.1, 0.2, 0.3, 0.4, 0.5],\n",
        " [0.2, 0.3, 0.4, 0.5, 0.6],\n",
        " [0.3, 0.4, 0.5, 0.6, 0.7],\n",
        " [0.4, 0.5, 0.6, 0.7, 0.8],\n",
        " [0.5, 0.6, 0.7, 0.8, 0.9],\n",
        " [0.6, 0.7, 0.8, 0.9, 1.0]])\n",
        "b1=np.array([0.1, 0.2, 0.3, 0.4, 0.5])"
      ],
      "metadata": {
        "id": "nKAj2wCOsmbY"
      },
      "execution_count": 3,
      "outputs": []
    },
    {
      "cell_type": "code",
      "source": [
        "z1 = np.dot(X, W1) + b1\n",
        "h1 = relu(z1)\n",
        "print(h1)"
      ],
      "metadata": {
        "colab": {
          "base_uri": "https://localhost:8080/"
        },
        "id": "S0wF_pQwsn4V",
        "outputId": "81221dc4-d21a-4866-9e50-6fe3d7eeacfb"
      },
      "execution_count": 4,
      "outputs": [
        {
          "output_type": "stream",
          "name": "stdout",
          "text": [
            "[[ 9.1 12.8 16.5 20.2 23.9]\n",
            " [11.7 12.6 13.5 14.4 15.3]\n",
            " [12.  14.3 16.6 18.9 21.2]\n",
            " [ 0.1  1.4  2.7  4.   5.3]\n",
            " [ 4.1  5.1  6.1  7.1  8.1]]\n"
          ]
        }
      ]
    },
    {
      "cell_type": "markdown",
      "source": [
        "## 1-4 第二隱藏層有4個神經元 激發函數使用ReLU"
      ],
      "metadata": {
        "id": "rvy5BcFBtoDc"
      }
    },
    {
      "cell_type": "code",
      "source": [
        "W2=np.array([[0.2, 0.3, 0.4, 0.5],\n",
        " [0.3, 0.4, 0.5, 0.6],\n",
        " [0.4, 0.5, 0.6, 0.7],\n",
        " [0.5, 0.6, 0.7, 0.8],\n",
        " [0.6, 0.7, 0.8, 0.9]])\n",
        "b2=np.array([0.1, 0.2, 0.3, 0.4])"
      ],
      "metadata": {
        "id": "sL0GoV_htqGu"
      },
      "execution_count": 5,
      "outputs": []
    },
    {
      "cell_type": "code",
      "source": [
        "z2 = np.dot(h1, W2) + b2\n",
        "h2 = relu(z2)\n",
        "print(h2)"
      ],
      "metadata": {
        "colab": {
          "base_uri": "https://localhost:8080/"
        },
        "id": "_AqqDRMStsSf",
        "outputId": "e2714cd7-fb16-48af-d30b-f2e437d659c1"
      },
      "execution_count": 6,
      "outputs": [
        {
          "output_type": "stream",
          "name": "stdout",
          "text": [
            "[[36.8  45.15 53.5  61.85]\n",
            " [28.   34.85 41.7  48.55]\n",
            " [35.6  44.   52.4  60.8 ]\n",
            " [ 6.8   8.25  9.7  11.15]\n",
            " [13.3  16.45 19.6  22.75]]\n"
          ]
        }
      ]
    },
    {
      "cell_type": "markdown",
      "source": [
        "## 1-5 第三隱藏層有4個神經元 激發函數使用Sigmoid"
      ],
      "metadata": {
        "id": "l44z62_jtzb7"
      }
    },
    {
      "cell_type": "code",
      "source": [
        "W3=np.array([[-0.3, 0.4, -0.5, 0.6],\n",
        " [-0.4, 0.5, -0.6, 0.7],\n",
        " [-0.5, -0.6, 0.7, 0.8],\n",
        " [0.6, -0.7, 0.8, -0.9]])\n",
        "b3=np.array([0.1, 0.2, 0.3, 0.4])"
      ],
      "metadata": {
        "id": "fbtC3D0Btzv0"
      },
      "execution_count": 7,
      "outputs": []
    },
    {
      "cell_type": "code",
      "source": [
        "z3 = np.dot(h2, W3) + b3\n",
        "h3 = sigmoid(z3)\n",
        "print(h3)"
      ],
      "metadata": {
        "colab": {
          "base_uri": "https://localhost:8080/"
        },
        "id": "6-hZ5Ka3t1qE",
        "outputId": "821d5329-23d5-42a7-c2e7-39191b91bfea"
      },
      "execution_count": 8,
      "outputs": [
        {
          "output_type": "stream",
          "name": "stdout",
          "text": [
            "[[8.03065287e-09 3.46927827e-17 1.00000000e+00 1.00000000e+00]\n",
            " [8.65463301e-07 7.81614372e-14 1.00000000e+00 1.00000000e+00]\n",
            " [1.68317304e-08 4.87415415e-17 1.00000000e+00 1.00000000e+00]\n",
            " [3.22954647e-02 1.38592584e-03 9.99528915e-01 9.99657878e-01]\n",
            " [1.33165528e-03 8.82946804e-07 9.99999848e-01 9.99999723e-01]]\n"
          ]
        }
      ]
    },
    {
      "cell_type": "markdown",
      "source": [
        "## 1-6 輸出層需有3個神經元 激發函數使用Softmax"
      ],
      "metadata": {
        "id": "LyIU5cu8t5Jo"
      }
    },
    {
      "cell_type": "code",
      "source": [
        "W4=np.array([[0.4, 0.5, 0.6],\n",
        " [-0.1, 0.6, -0.7],\n",
        " [-0.6, 0.9, -0.8],\n",
        " [0.7, -0.3, 0.9]])\n",
        "b4=np.array([0.2, 0.2, 0.3])"
      ],
      "metadata": {
        "id": "1eDuR05Rt5kp"
      },
      "execution_count": 9,
      "outputs": []
    },
    {
      "cell_type": "code",
      "source": [
        "z4 = np.dot(h3, W4) + b4\n",
        "y_hat = softmax(z4)\n",
        "# y_hat為最終計算的各項機率結果\n",
        "print(y_hat)"
      ],
      "metadata": {
        "colab": {
          "base_uri": "https://localhost:8080/"
        },
        "id": "RAhpYG9Zt7wD",
        "outputId": "2fc627c0-7ef0-4e27-a9f2-3e4d28e45865"
      },
      "execution_count": 16,
      "outputs": [
        {
          "output_type": "stream",
          "name": "stdout",
          "text": [
            "[[0.3        0.8        0.4       ]\n",
            " [0.30000035 0.80000043 0.40000052]\n",
            " [0.30000001 0.80000001 0.40000001]\n",
            " [0.31282276 0.81665795 0.41847609]\n",
            " [0.30053247 0.8006663  0.40079825]]\n",
            "[[0.26639018 0.43920315 0.29440668]\n",
            " [0.26639015 0.43920315 0.2944067 ]\n",
            " [0.26639018 0.43920315 0.29440668]\n",
            " [0.26549896 0.4394158  0.29508524]\n",
            " [0.26635367 0.43920174 0.29444458]]\n"
          ]
        }
      ]
    },
    {
      "cell_type": "markdown",
      "source": [
        "## 1-7 使用cross_entropy_error衡量y_hat與y之間的誤差值"
      ],
      "metadata": {
        "id": "nodkieCOuBuU"
      }
    },
    {
      "cell_type": "code",
      "source": [
        "def cross_entropy_error(y, t):\n",
        "  if y.ndim == 1:\n",
        "    t = t.reshape(1, t.size)\n",
        "    y = y.reshape(1, y.size)\n",
        "\n",
        "  batch_size = y.shape[0]\n",
        "  return -np.sum(t * np.log(y + 1e-7)) / batch_size"
      ],
      "metadata": {
        "id": "CymgO9GwuDA4"
      },
      "execution_count": 11,
      "outputs": []
    },
    {
      "cell_type": "code",
      "source": [
        "np.log(y_hat + 1e-7)"
      ],
      "metadata": {
        "colab": {
          "base_uri": "https://localhost:8080/"
        },
        "id": "sMmTKbi9uvJ2",
        "outputId": "1ddd01f7-d97a-47f0-c0fd-710ce31c9b53"
      },
      "execution_count": 12,
      "outputs": [
        {
          "output_type": "execute_result",
          "data": {
            "text/plain": [
              "array([[-1.32279284, -0.82279299, -1.22279288],\n",
              "       [-1.32279293, -0.82279299, -1.22279279],\n",
              "       [-1.32279285, -0.82279299, -1.22279288],\n",
              "       [-1.32614397, -0.82230893, -1.22049068],\n",
              "       [-1.32292987, -0.82279619, -1.22266413]])"
            ]
          },
          "metadata": {},
          "execution_count": 12
        }
      ]
    },
    {
      "cell_type": "code",
      "source": [
        "Y*np.log(y_hat + 1e-7)"
      ],
      "metadata": {
        "colab": {
          "base_uri": "https://localhost:8080/"
        },
        "id": "nMucsyAFuwEY",
        "outputId": "4eb84df3-9333-43df-9848-fa9df573548e"
      },
      "execution_count": 13,
      "outputs": [
        {
          "output_type": "execute_result",
          "data": {
            "text/plain": [
              "array([[-0.        , -0.        , -1.22279288],\n",
              "       [-1.32279293, -0.        , -0.        ],\n",
              "       [-0.        , -0.82279299, -0.        ],\n",
              "       [-0.        , -0.        , -1.22049068],\n",
              "       [-1.32292987, -0.        , -0.        ]])"
            ]
          },
          "metadata": {},
          "execution_count": 13
        }
      ]
    },
    {
      "cell_type": "code",
      "source": [
        "-np.sum(Y * np.log(y_hat + 1e-7))"
      ],
      "metadata": {
        "colab": {
          "base_uri": "https://localhost:8080/"
        },
        "id": "BMbotnIGuxAO",
        "outputId": "079508ae-5f6e-4837-a0ca-336cf8a72135"
      },
      "execution_count": 14,
      "outputs": [
        {
          "output_type": "execute_result",
          "data": {
            "text/plain": [
              "np.float64(5.9117993571691425)"
            ]
          },
          "metadata": {},
          "execution_count": 14
        }
      ]
    },
    {
      "cell_type": "code",
      "source": [
        "cross_entropy_error(y_hat, Y)"
      ],
      "metadata": {
        "colab": {
          "base_uri": "https://localhost:8080/"
        },
        "id": "sWfQ69KduaTO",
        "outputId": "036cb29a-02e9-4d40-e2ca-07b8a9c63dbe"
      },
      "execution_count": 15,
      "outputs": [
        {
          "output_type": "execute_result",
          "data": {
            "text/plain": [
              "np.float64(1.1823598714338286)"
            ]
          },
          "metadata": {},
          "execution_count": 15
        }
      ]
    }
  ]
}