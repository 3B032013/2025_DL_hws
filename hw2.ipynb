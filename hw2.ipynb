{
  "nbformat": 4,
  "nbformat_minor": 0,
  "metadata": {
    "colab": {
      "provenance": [],
      "toc_visible": true,
      "authorship_tag": "ABX9TyNht6c013VeZMsszLX7PZl/",
      "include_colab_link": true
    },
    "kernelspec": {
      "name": "python3",
      "display_name": "Python 3"
    },
    "language_info": {
      "name": "python"
    }
  },
  "cells": [
    {
      "cell_type": "markdown",
      "metadata": {
        "id": "view-in-github",
        "colab_type": "text"
      },
      "source": [
        "<a href=\"https://colab.research.google.com/github/3B032013/2025_ML_hws/blob/main/hw2.ipynb\" target=\"_parent\"><img src=\"https://colab.research.google.com/assets/colab-badge.svg\" alt=\"Open In Colab\"/></a>"
      ]
    },
    {
      "cell_type": "markdown",
      "source": [
        "# 作業2 - (第四週)"
      ],
      "metadata": {
        "id": "7jsRIkPAqRMH"
      }
    },
    {
      "cell_type": "markdown",
      "source": [
        "## *題組1 多隱藏層的全連接神經網路 \"批次學習\""
      ],
      "metadata": {
        "id": "FSx2DbyVq8U0"
      }
    },
    {
      "cell_type": "markdown",
      "source": [
        "## 1-1 各激發函數定義(Sigmoid、ReLU、Softmax)"
      ],
      "metadata": {
        "id": "UfYL4djLqdhV"
      }
    },
    {
      "cell_type": "code",
      "execution_count": 73,
      "metadata": {
        "id": "a6ZHTBu9qMhm"
      },
      "outputs": [],
      "source": [
        "import numpy as np\n",
        "# Sigmoid激發函數\n",
        "def sigmoid(x):\n",
        "  return 1/(1+np.exp(-x))\n",
        "\n",
        "# ReLU激發函數\n",
        "def relu(x):\n",
        "  return np.maximum(0, x)\n",
        "\n",
        "# Softmax激發函數\n",
        "def softmax(x):\n",
        "  c=np.max(x)\n",
        "  x = x - c\n",
        "  return np.exp(x) / np.sum(np.exp(x))"
      ]
    },
    {
      "cell_type": "markdown",
      "source": [
        "## 1-2 輸入層設定批次輸入5筆資料 每筆6個神經元"
      ],
      "metadata": {
        "id": "rYeZncTNrLEe"
      }
    },
    {
      "cell_type": "code",
      "source": [
        "# 批次輸入5筆資料\n",
        "batch_size=5\n",
        "\n",
        "# 每筆6個神經元 所以共5*6=30\n",
        "X=np.array([[10.0, 8.0, -6.0, 4.0, -2.0, 0.0],\n",
        "    [-16.0, 4.0, -10.0, 8.0, 10.0, 12.0],\n",
        "    [1.0, 3.0, -9.0, 7.0, 9.0, 11.0],\n",
        "    [8.0, 6.0, 4.0, -4.0, 4.0, -6.0],\n",
        "    [2.0, -3.0, 4.0, 5.0, -6.0, 7.0]])\n",
        "\n",
        "# 真實結果\n",
        "Y=np.array([[0, 0, 1], [1, 0, 0], [0, 1, 0], [0, 0, 1], [1, 0, 0]])"
      ],
      "metadata": {
        "id": "NYxBkgaarOzP"
      },
      "execution_count": 74,
      "outputs": []
    },
    {
      "cell_type": "markdown",
      "source": [
        "## 1-3 第一隱藏層有5個神經元 激發函數使用ReLU"
      ],
      "metadata": {
        "id": "rkYEly6qsmC9"
      }
    },
    {
      "cell_type": "code",
      "source": [
        "W1=np.array([[0.1, 0.2, 0.3, 0.4, 0.5],\n",
        " [0.2, 0.3, 0.4, 0.5, 0.6],\n",
        " [0.3, 0.4, 0.5, 0.6, 0.7],\n",
        " [0.4, 0.5, 0.6, 0.7, 0.8],\n",
        " [0.5, 0.6, 0.7, 0.8, 0.9],\n",
        " [0.6, 0.7, 0.8, 0.9, 1.0]])\n",
        "b1=np.array([0.1, 0.2, 0.3, 0.4, 0.5])"
      ],
      "metadata": {
        "id": "nKAj2wCOsmbY"
      },
      "execution_count": 75,
      "outputs": []
    },
    {
      "cell_type": "code",
      "source": [
        "z1 = np.dot(X, W1) + b1\n",
        "h1 = relu(z1)\n",
        "print(h1)"
      ],
      "metadata": {
        "colab": {
          "base_uri": "https://localhost:8080/"
        },
        "id": "S0wF_pQwsn4V",
        "outputId": "b8142eb5-5b08-493c-9378-232dcbecf762"
      },
      "execution_count": 76,
      "outputs": [
        {
          "output_type": "stream",
          "name": "stdout",
          "text": [
            "[[ 1.5  3.   4.5  6.   7.5]\n",
            " [11.7 12.6 13.5 14.4 15.3]\n",
            " [12.  14.3 16.6 18.9 21.2]\n",
            " [ 0.1  1.4  2.7  4.   5.3]\n",
            " [ 4.1  5.1  6.1  7.1  8.1]]\n"
          ]
        }
      ]
    },
    {
      "cell_type": "markdown",
      "source": [
        "## 1-4 第二隱藏層有4個神經元 激發函數使用ReLU"
      ],
      "metadata": {
        "id": "rvy5BcFBtoDc"
      }
    },
    {
      "cell_type": "code",
      "source": [
        "W2=np.array([[0.2, 0.3, 0.4, 0.5],\n",
        " [0.3, 0.4, 0.5, 0.6],\n",
        " [0.4, 0.5, 0.6, 0.7],\n",
        " [0.5, 0.6, 0.7, 0.8],\n",
        " [0.6, 0.7, 0.8, 0.9]])\n",
        "b2=np.array([0.1, 0.2, 0.3, 0.4])"
      ],
      "metadata": {
        "id": "sL0GoV_htqGu"
      },
      "execution_count": 77,
      "outputs": []
    },
    {
      "cell_type": "code",
      "source": [
        "z2 = np.dot(h1, W2) + b2\n",
        "h2 = relu(z2)\n",
        "print(h2)"
      ],
      "metadata": {
        "colab": {
          "base_uri": "https://localhost:8080/"
        },
        "id": "_AqqDRMStsSf",
        "outputId": "6822fba4-31aa-49c0-d6fe-9834f5625c9e"
      },
      "execution_count": 78,
      "outputs": [
        {
          "output_type": "stream",
          "name": "stdout",
          "text": [
            "[[10.6  12.95 15.3  17.65]\n",
            " [28.   34.85 41.7  48.55]\n",
            " [35.6  44.   52.4  60.8 ]\n",
            " [ 6.8   8.25  9.7  11.15]\n",
            " [13.3  16.45 19.6  22.75]]\n"
          ]
        }
      ]
    },
    {
      "cell_type": "markdown",
      "source": [
        "## 1-5 第三隱藏層有4個神經元 激發函數使用Sigmoid"
      ],
      "metadata": {
        "id": "l44z62_jtzb7"
      }
    },
    {
      "cell_type": "code",
      "source": [
        "W3=np.array([[0.3, 0.4, 0.5, 0.6],\n",
        " [0.4, 0.5, 0.6, 0.7],\n",
        " [0.5, 0.6, 0.7, 0.8],\n",
        " [0.6, 0.7, 0.8, 0.9]])\n",
        "b3=np.array([0.1, 0.2, 0.3, 0.4])"
      ],
      "metadata": {
        "id": "fbtC3D0Btzv0"
      },
      "execution_count": 79,
      "outputs": []
    },
    {
      "cell_type": "code",
      "source": [
        "z3 = np.dot(h2, W3) + b3\n",
        "h3 = sigmoid(z3)\n",
        "print(h3)"
      ],
      "metadata": {
        "colab": {
          "base_uri": "https://localhost:8080/"
        },
        "id": "6-hZ5Ka3t1qE",
        "outputId": "ccd7f081-1e6b-440d-eab0-1288fda840ca"
      },
      "execution_count": 80,
      "outputs": [
        {
          "output_type": "stream",
          "name": "stdout",
          "text": [
            "[[1.         1.         1.         1.        ]\n",
            " [1.         1.         1.         1.        ]\n",
            " [1.         1.         1.         1.        ]\n",
            " [0.99999996 1.         1.         1.        ]\n",
            " [1.         1.         1.         1.        ]]\n"
          ]
        }
      ]
    },
    {
      "cell_type": "markdown",
      "source": [
        "## 1-6 輸出層需有3個神經元 激發函數使用Softmax"
      ],
      "metadata": {
        "id": "LyIU5cu8t5Jo"
      }
    },
    {
      "cell_type": "code",
      "source": [
        "W4=np.array([[0.4, 0.5, 0.6],\n",
        " [0.5, 0.6, 0.7],\n",
        " [0.6, 0.7, 0.8],\n",
        " [0.7, 0.8, 0.9]])\n",
        "b4=np.array([0.1, 0.2, 0.3])"
      ],
      "metadata": {
        "id": "1eDuR05Rt5kp"
      },
      "execution_count": 81,
      "outputs": []
    },
    {
      "cell_type": "code",
      "source": [
        "z4 = np.dot(h3, W4) + b4\n",
        "y_hat = softmax(z4)\n",
        "# y_hat為最終計算的各項機率結果\n",
        "print(y_hat)"
      ],
      "metadata": {
        "colab": {
          "base_uri": "https://localhost:8080/"
        },
        "id": "RAhpYG9Zt7wD",
        "outputId": "18267c54-9d33-44a9-d026-52a55b456eb6"
      },
      "execution_count": 82,
      "outputs": [
        {
          "output_type": "stream",
          "name": "stdout",
          "text": [
            "[[0.03726474 0.06143918 0.10129608]\n",
            " [0.03726474 0.06143918 0.10129608]\n",
            " [0.03726474 0.06143918 0.10129608]\n",
            " [0.03726474 0.06143918 0.10129608]\n",
            " [0.03726474 0.06143918 0.10129608]]\n"
          ]
        }
      ]
    },
    {
      "cell_type": "markdown",
      "source": [
        "## 1-7 使用cross_entropy_error衡量y_hat與y之間的誤差值"
      ],
      "metadata": {
        "id": "nodkieCOuBuU"
      }
    },
    {
      "cell_type": "code",
      "source": [
        "def cross_entropy_error(y_hat, y):\n",
        "  return -np.sum(y * np.log(y_hat + 1e-7))"
      ],
      "metadata": {
        "id": "CymgO9GwuDA4"
      },
      "execution_count": 83,
      "outputs": []
    },
    {
      "cell_type": "code",
      "source": [
        "np.log(y_hat + 1e-7)"
      ],
      "metadata": {
        "colab": {
          "base_uri": "https://localhost:8080/"
        },
        "id": "sMmTKbi9uvJ2",
        "outputId": "b515a03d-3b06-4a6e-c7ab-e774d8dbb580"
      },
      "execution_count": 84,
      "outputs": [
        {
          "output_type": "execute_result",
          "data": {
            "text/plain": [
              "array([[-3.28970489, -2.78970595, -2.28970659],\n",
              "       [-3.28970489, -2.78970595, -2.28970659],\n",
              "       [-3.28970489, -2.78970595, -2.28970659],\n",
              "       [-3.28970491, -2.78970597, -2.28970662],\n",
              "       [-3.28970489, -2.78970595, -2.28970659]])"
            ]
          },
          "metadata": {},
          "execution_count": 84
        }
      ]
    },
    {
      "cell_type": "code",
      "source": [
        "Y*np.log(y_hat + 1e-7)"
      ],
      "metadata": {
        "colab": {
          "base_uri": "https://localhost:8080/"
        },
        "id": "nMucsyAFuwEY",
        "outputId": "61b5eb66-541a-4ef0-f0f7-91065a8e66f8"
      },
      "execution_count": 85,
      "outputs": [
        {
          "output_type": "execute_result",
          "data": {
            "text/plain": [
              "array([[-0.        , -0.        , -2.28970659],\n",
              "       [-3.28970489, -0.        , -0.        ],\n",
              "       [-0.        , -2.78970595, -0.        ],\n",
              "       [-0.        , -0.        , -2.28970662],\n",
              "       [-3.28970489, -0.        , -0.        ]])"
            ]
          },
          "metadata": {},
          "execution_count": 85
        }
      ]
    },
    {
      "cell_type": "code",
      "source": [
        "-np.sum(Y * np.log(y_hat + 1e-7))"
      ],
      "metadata": {
        "colab": {
          "base_uri": "https://localhost:8080/"
        },
        "id": "BMbotnIGuxAO",
        "outputId": "a749b759-8466-4aaa-b336-3b0ff3c5f5be"
      },
      "execution_count": 86,
      "outputs": [
        {
          "output_type": "execute_result",
          "data": {
            "text/plain": [
              "np.float64(13.948528949294603)"
            ]
          },
          "metadata": {},
          "execution_count": 86
        }
      ]
    },
    {
      "cell_type": "code",
      "source": [
        "cross_entropy_error(y_hat, Y)"
      ],
      "metadata": {
        "colab": {
          "base_uri": "https://localhost:8080/"
        },
        "id": "sWfQ69KduaTO",
        "outputId": "6b551cdb-724e-4862-e39f-e9bd48c68fc6"
      },
      "execution_count": 87,
      "outputs": [
        {
          "output_type": "execute_result",
          "data": {
            "text/plain": [
              "np.float64(13.948528949294603)"
            ]
          },
          "metadata": {},
          "execution_count": 87
        }
      ]
    }
  ]
}