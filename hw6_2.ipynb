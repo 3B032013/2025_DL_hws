{
  "nbformat": 4,
  "nbformat_minor": 0,
  "metadata": {
    "colab": {
      "provenance": [],
      "authorship_tag": "ABX9TyNktmGq75ECb/M0WzIe7ZTn",
      "include_colab_link": true
    },
    "kernelspec": {
      "name": "python3",
      "display_name": "Python 3"
    },
    "language_info": {
      "name": "python"
    }
  },
  "cells": [
    {
      "cell_type": "markdown",
      "metadata": {
        "id": "view-in-github",
        "colab_type": "text"
      },
      "source": [
        "<a href=\"https://colab.research.google.com/github/3B032013/2025_DL_hws/blob/main/hw6_2.ipynb\" target=\"_parent\"><img src=\"https://colab.research.google.com/assets/colab-badge.svg\" alt=\"Open In Colab\"/></a>"
      ]
    },
    {
      "cell_type": "code",
      "source": [
        "import numpy as np"
      ],
      "metadata": {
        "id": "HGwJdfmkvgpk"
      },
      "execution_count": null,
      "outputs": []
    },
    {
      "cell_type": "markdown",
      "source": [
        "# 一、自訂三個輸入單字x1、x2、x3 及初始隱藏狀態0"
      ],
      "metadata": {
        "id": "4la5lxgLvapo"
      }
    },
    {
      "cell_type": "code",
      "source": [
        "# 自訂輸入向量 x1, x2, x3\n",
        "x1 = np.array([0.1, 0.2, 0.3])\n",
        "x2 = np.array([0.5, 0.4, 0.3])\n",
        "x3 = np.array([0.0, 0.1, 0.0])\n",
        "\n",
        "# 初始隱藏狀態 h0\n",
        "h0 = np.zeros(4)"
      ],
      "metadata": {
        "id": "RVU2sovzvflv"
      },
      "execution_count": null,
      "outputs": []
    },
    {
      "cell_type": "markdown",
      "source": [
        "# 二、自訂RNN神經元權重 Wx 、 Wh 、b"
      ],
      "metadata": {
        "id": "5WRsacLYvxLE"
      }
    },
    {
      "cell_type": "code",
      "execution_count": null,
      "metadata": {
        "id": "STAN7QRSsuQ6"
      },
      "outputs": [],
      "source": [
        "# 自訂 RNN 權重\n",
        "Wx = np.array([\n",
        "    [0.1, 0.2, 0.3, 0.4],\n",
        "    [0.5, 0.6, 0.7, 0.8],\n",
        "    [0.9, 1.0, 1.1, 1.2]\n",
        "])  # shape: (3, 4)\n",
        "\n",
        "Wh = np.array([\n",
        "    [0.1, 0.0, 0.1, 0.0],\n",
        "    [0.0, 0.1, 0.0, 0.1],\n",
        "    [0.1, 0.1, 0.1, 0.1],\n",
        "    [0.2, 0.2, 0.2, 0.2]\n",
        "])  # shape: (4, 4)\n",
        "\n",
        "b = np.array([0.1, 0.2, 0.3, 0.4])  # shape: (4,)"
      ]
    },
    {
      "cell_type": "markdown",
      "source": [
        "# 三、RNN激活函數使用tanh"
      ],
      "metadata": {
        "id": "-HYTF2xZv6kO"
      }
    },
    {
      "cell_type": "code",
      "source": [
        "# tanh 函數\n",
        "def tanh(x):\n",
        "    return np.tanh(x)"
      ],
      "metadata": {
        "id": "NJj3MIEPv-_0"
      },
      "execution_count": null,
      "outputs": []
    },
    {
      "cell_type": "markdown",
      "source": [
        "# 四、計算h1"
      ],
      "metadata": {
        "id": "Q53y_sAnwGr7"
      }
    },
    {
      "cell_type": "code",
      "source": [
        "# h1 = tanh(x1 @ Wx + h0 @ Wh + b)\n",
        "h1 = tanh(np.dot(x1, Wx) + np.dot(h0, Wh) + b)\n",
        "print(\"h1 =\", h1)"
      ],
      "metadata": {
        "colab": {
          "base_uri": "https://localhost:8080/"
        },
        "id": "mHnPODWEv_2w",
        "outputId": "df77a2ec-af84-4d90-e21a-31dbbdf8454b"
      },
      "execution_count": null,
      "outputs": [
        {
          "output_type": "stream",
          "name": "stdout",
          "text": [
            "h1 = [0.44624361 0.56489955 0.66403677 0.74427687]\n"
          ]
        }
      ]
    },
    {
      "cell_type": "markdown",
      "source": [
        "# 五、計算h2"
      ],
      "metadata": {
        "id": "3iC8isbxwIkg"
      }
    },
    {
      "cell_type": "code",
      "source": [
        "# h2 = tanh(x2 @ Wx + h1 @ Wh + b)\n",
        "h2 = tanh(np.dot(x2, Wx) + np.dot(h1, Wh) + b)\n",
        "print(\"h2 =\", h2)"
      ],
      "metadata": {
        "colab": {
          "base_uri": "https://localhost:8080/"
        },
        "id": "5H_x8riqvVuY",
        "outputId": "7d63cbf4-8d6f-4bb9-b1c7-4d07572833ab"
      },
      "execution_count": null,
      "outputs": [
        {
          "output_type": "stream",
          "name": "stdout",
          "text": [
            "h2 = [0.70636091 0.80467977 0.86675493 0.91407361]\n"
          ]
        }
      ]
    },
    {
      "cell_type": "markdown",
      "source": [
        "# 六、計算h3"
      ],
      "metadata": {
        "id": "oNT1v_m-wKuV"
      }
    },
    {
      "cell_type": "code",
      "source": [
        "# h3 = tanh(x3 @ Wx + h2 @ Wh + b)\n",
        "h3 = tanh(np.dot(x3, Wx) + np.dot(h2, Wh) + b)\n",
        "print(\"h3 =\", h3)"
      ],
      "metadata": {
        "colab": {
          "base_uri": "https://localhost:8080/"
        },
        "id": "BtLcVQ0nwL-q",
        "outputId": "e46b98e1-0ef4-4815-eec0-a7bf7421b254"
      },
      "execution_count": null,
      "outputs": [
        {
          "output_type": "stream",
          "name": "stdout",
          "text": [
            "h3 = [0.45431667 0.54409767 0.61075603 0.68045356]\n"
          ]
        }
      ]
    }
  ]
}