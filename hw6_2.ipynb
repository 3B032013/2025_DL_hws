{
  "nbformat": 4,
  "nbformat_minor": 0,
  "metadata": {
    "colab": {
      "provenance": [],
      "toc_visible": true,
      "authorship_tag": "ABX9TyN41Yj8hAbLSM7iENfPzsVR",
      "include_colab_link": true
    },
    "kernelspec": {
      "name": "python3",
      "display_name": "Python 3"
    },
    "language_info": {
      "name": "python"
    }
  },
  "cells": [
    {
      "cell_type": "markdown",
      "metadata": {
        "id": "view-in-github",
        "colab_type": "text"
      },
      "source": [
        "<a href=\"https://colab.research.google.com/github/3B032013/2025_DL_hws/blob/main/hw6_2.ipynb\" target=\"_parent\"><img src=\"https://colab.research.google.com/assets/colab-badge.svg\" alt=\"Open In Colab\"/></a>"
      ]
    },
    {
      "cell_type": "markdown",
      "source": [
        "# 作業6-2"
      ],
      "metadata": {
        "id": "3jgjP5SYKgoy"
      }
    },
    {
      "cell_type": "code",
      "source": [
        "import numpy as np"
      ],
      "metadata": {
        "id": "HGwJdfmkvgpk"
      },
      "execution_count": null,
      "outputs": []
    },
    {
      "cell_type": "markdown",
      "source": [
        "## 一、自訂三個輸入單字x1、x2、x3 及初始隱藏狀態0"
      ],
      "metadata": {
        "id": "4la5lxgLvapo"
      }
    },
    {
      "cell_type": "code",
      "source": [
        "# 自訂輸入向量 x1, x2, x3\n",
        "x1 = np.array([0.1, 0.2, 0.3])\n",
        "x2 = np.array([0.5, 0.4, 0.3])\n",
        "x3 = np.array([0.0, 0.1, 0.0])\n",
        "\n",
        "# 初始隱藏狀態 h0\n",
        "h0 = np.zeros(4)"
      ],
      "metadata": {
        "id": "RVU2sovzvflv"
      },
      "execution_count": null,
      "outputs": []
    },
    {
      "cell_type": "markdown",
      "source": [
        "## 二、自訂RNN神經元權重 Wx 、 Wh 、b"
      ],
      "metadata": {
        "id": "5WRsacLYvxLE"
      }
    },
    {
      "cell_type": "code",
      "execution_count": null,
      "metadata": {
        "id": "STAN7QRSsuQ6"
      },
      "outputs": [],
      "source": [
        "# 自訂 RNN 權重\n",
        "Wx = np.array([\n",
        "    [0.1, 0.2, 0.3, 0.4],\n",
        "    [0.5, 0.6, 0.7, 0.8],\n",
        "    [0.9, 1.0, 1.1, 1.2]\n",
        "])  # shape: (3, 4)\n",
        "\n",
        "Wh = np.array([\n",
        "    [0.1, 0.0, 0.1, 0.0],\n",
        "    [0.0, 0.1, 0.0, 0.1],\n",
        "    [0.1, 0.1, 0.1, 0.1],\n",
        "    [0.2, 0.2, 0.2, 0.2]\n",
        "])  # shape: (4, 4)\n",
        "\n",
        "b = np.array([0.1, 0.2, 0.3, 0.4])  # shape: (4,)"
      ]
    },
    {
      "cell_type": "markdown",
      "source": [
        "## 三、RNN激活函數使用tanh"
      ],
      "metadata": {
        "id": "-HYTF2xZv6kO"
      }
    },
    {
      "cell_type": "code",
      "source": [
        "# tanh 函數\n",
        "def tanh(x):\n",
        "    return np.tanh(x)"
      ],
      "metadata": {
        "id": "NJj3MIEPv-_0"
      },
      "execution_count": null,
      "outputs": []
    },
    {
      "cell_type": "markdown",
      "source": [
        "## 四、計算h1"
      ],
      "metadata": {
        "id": "Q53y_sAnwGr7"
      }
    },
    {
      "cell_type": "code",
      "source": [
        "# h1 = tanh(x1 @ Wx + h0 @ Wh + b)\n",
        "h1 = tanh(np.dot(x1, Wx) + np.dot(h0, Wh) + b)\n",
        "print(\"h1 =\", h1)"
      ],
      "metadata": {
        "colab": {
          "base_uri": "https://localhost:8080/"
        },
        "id": "mHnPODWEv_2w",
        "outputId": "478f0d11-65c4-4938-9ac8-5d0c96685a86"
      },
      "execution_count": null,
      "outputs": [
        {
          "output_type": "stream",
          "name": "stdout",
          "text": [
            "h1 = [0.44624361 0.56489955 0.66403677 0.74427687]\n"
          ]
        }
      ]
    },
    {
      "cell_type": "markdown",
      "source": [
        "## 五、計算h2"
      ],
      "metadata": {
        "id": "3iC8isbxwIkg"
      }
    },
    {
      "cell_type": "code",
      "source": [
        "# h2 = tanh(x2 @ Wx + h1 @ Wh + b)\n",
        "h2 = tanh(np.dot(x2, Wx) + np.dot(h1, Wh) + b)\n",
        "print(\"h2 =\", h2)"
      ],
      "metadata": {
        "colab": {
          "base_uri": "https://localhost:8080/"
        },
        "id": "5H_x8riqvVuY",
        "outputId": "393133db-67a4-46f6-9f13-6f580c8821cc"
      },
      "execution_count": null,
      "outputs": [
        {
          "output_type": "stream",
          "name": "stdout",
          "text": [
            "h2 = [0.70636091 0.80467977 0.86675493 0.91407361]\n"
          ]
        }
      ]
    },
    {
      "cell_type": "markdown",
      "source": [
        "## 六、計算h3"
      ],
      "metadata": {
        "id": "oNT1v_m-wKuV"
      }
    },
    {
      "cell_type": "code",
      "source": [
        "# h3 = tanh(x3 @ Wx + h2 @ Wh + b)\n",
        "h3 = tanh(np.dot(x3, Wx) + np.dot(h2, Wh) + b)\n",
        "print(\"h3 =\", h3)"
      ],
      "metadata": {
        "colab": {
          "base_uri": "https://localhost:8080/"
        },
        "id": "BtLcVQ0nwL-q",
        "outputId": "9bf7539a-c975-43dd-9f82-f1d045124ac9"
      },
      "execution_count": null,
      "outputs": [
        {
          "output_type": "stream",
          "name": "stdout",
          "text": [
            "h3 = [0.45431667 0.54409767 0.61075603 0.68045356]\n"
          ]
        }
      ]
    },
    {
      "cell_type": "markdown",
      "source": [
        "# 作業6-3"
      ],
      "metadata": {
        "id": "wXcckEY9KrwJ"
      }
    },
    {
      "cell_type": "markdown",
      "source": [
        "## 一、Decoder t=3 時的 query 向量 S3"
      ],
      "metadata": {
        "id": "DKjbBbgnMm1Y"
      }
    },
    {
      "cell_type": "code",
      "source": [
        "S3 = np.array([2, 5, 3, 1])"
      ],
      "metadata": {
        "id": "Ey1i4V7EKuYw"
      },
      "execution_count": null,
      "outputs": []
    },
    {
      "cell_type": "markdown",
      "source": [
        "## 二、計算注意力強度"
      ],
      "metadata": {
        "id": "qORq74ceMsQ7"
      }
    },
    {
      "cell_type": "code",
      "source": [
        "e1 = np.dot(S3, h1)\n",
        "e2 = np.dot(S3, h2)\n",
        "e3 = np.dot(S3, h3)\n",
        "\n",
        "e = np.array([e1, e2, e3])\n",
        "print(\"注意力強度 e =\", e)"
      ],
      "metadata": {
        "colab": {
          "base_uri": "https://localhost:8080/"
        },
        "id": "SP5UjnIGMuoK",
        "outputId": "10025858-633b-4666-cf6d-dc47abf0fb50"
      },
      "execution_count": null,
      "outputs": [
        {
          "output_type": "stream",
          "name": "stdout",
          "text": [
            "注意力強度 e = [6.45337216 8.95045906 6.14184333]\n"
          ]
        }
      ]
    },
    {
      "cell_type": "code",
      "source": [
        "def softmax(x):\n",
        "    e_x = np.exp(x - np.max(x))\n",
        "    return e_x / e_x.sum()\n",
        "\n",
        "a = softmax(e)  # [a1, a2, a3]\n",
        "print(\"注意力權重 a =\", a)"
      ],
      "metadata": {
        "colab": {
          "base_uri": "https://localhost:8080/"
        },
        "id": "SNQtqi8vM4dw",
        "outputId": "bec84c7f-bd9b-4bab-c035-de3f8a66d877"
      },
      "execution_count": null,
      "outputs": [
        {
          "output_type": "stream",
          "name": "stdout",
          "text": [
            "注意力權重 a = [0.07204931 0.87518707 0.05276362]\n"
          ]
        }
      ]
    },
    {
      "cell_type": "markdown",
      "source": [
        "## 三、計算Decoder在t=3時所使用的c3"
      ],
      "metadata": {
        "id": "kf7TMcMQNK5l"
      }
    },
    {
      "cell_type": "code",
      "source": [
        "c3 = a[0] * h1 + a[1] * h2 + a[2] * h3\n",
        "print(\"c3 =\", c3)"
      ],
      "metadata": {
        "colab": {
          "base_uri": "https://localhost:8080/"
        },
        "id": "mIntCrCIM2Mb",
        "outputId": "003f285d-5a40-4309-a4bb-4a075c4a123f"
      },
      "execution_count": null,
      "outputs": [
        {
          "output_type": "stream",
          "name": "stdout",
          "text": [
            "c3 = [0.67432087 0.77365451 0.8386418  0.88951323]\n"
          ]
        }
      ]
    },
    {
      "cell_type": "markdown",
      "source": [
        "# 作業6-4"
      ],
      "metadata": {
        "id": "tg51KUd6Nn_U"
      }
    },
    {
      "cell_type": "markdown",
      "source": [
        "## 一、設定x1、x2、x3 及WQ、WK、WV向量"
      ],
      "metadata": {
        "id": "zTPHw1znP81i"
      }
    },
    {
      "cell_type": "code",
      "source": [
        "x1 = np.array([0.1, 0.2, 0.3])\n",
        "x2 = np.array([0.5, 0.4, 0.3])\n",
        "x3 = np.array([0.0, 0.1, 0.0])\n",
        "X = np.array([x1, x2, x3])"
      ],
      "metadata": {
        "id": "4pAkhn7kNpV3"
      },
      "execution_count": null,
      "outputs": []
    },
    {
      "cell_type": "code",
      "source": [
        "WQ = np.array([\n",
        "    [0, 0, 1],\n",
        "    [1, 0, 0],\n",
        "    [0, 0, 1]\n",
        "])\n",
        "\n",
        "WK = np.array([\n",
        "    [1, 0, 1],\n",
        "    [0, 1, 1],\n",
        "    [0, 1, 0]\n",
        "])\n",
        "\n",
        "WV = np.array([\n",
        "    [0, 2, 1],\n",
        "    [1, 0, 3],\n",
        "    [1, 0, 1]\n",
        "])"
      ],
      "metadata": {
        "id": "yIRySL3WQCrC"
      },
      "execution_count": null,
      "outputs": []
    },
    {
      "cell_type": "markdown",
      "source": [
        "## 二、計算出Q,K,V及 根號dk"
      ],
      "metadata": {
        "id": "VZBXb5-SQYZv"
      }
    },
    {
      "cell_type": "code",
      "source": [
        "Q = np.dot(X, WQ)\n",
        "K = np.dot(X, WK)\n",
        "V = np.dot(X, WV)\n",
        "\n",
        "dk = K.shape[1]\n",
        "sqrt_dk = np.sqrt(dk)\n",
        "\n",
        "print(\"Q =\\n\", Q)\n",
        "print(\"K =\\n\", K)\n",
        "print(\"V =\\n\", V)\n",
        "print(\"sqrt(dk) =\", sqrt_dk)"
      ],
      "metadata": {
        "colab": {
          "base_uri": "https://localhost:8080/"
        },
        "id": "Bz3HrJcIQvqR",
        "outputId": "437599a8-c188-47fe-8e75-5eae84b67e3a"
      },
      "execution_count": null,
      "outputs": [
        {
          "output_type": "stream",
          "name": "stdout",
          "text": [
            "Q =\n",
            " [[0.2 0.  0.4]\n",
            " [0.4 0.  0.8]\n",
            " [0.1 0.  0. ]]\n",
            "K =\n",
            " [[0.1 0.5 0.3]\n",
            " [0.5 0.7 0.9]\n",
            " [0.  0.1 0.1]]\n",
            "V =\n",
            " [[0.5 0.2 1. ]\n",
            " [0.7 1.  2. ]\n",
            " [0.1 0.  0.3]]\n",
            "sqrt(dk) = 1.7320508075688772\n"
          ]
        }
      ]
    },
    {
      "cell_type": "markdown",
      "source": [
        "## 三、利用Attention(Q,K,V)公式 計算x1、x2、x3的self-attention"
      ],
      "metadata": {
        "id": "IXhrKya7RaFs"
      }
    },
    {
      "cell_type": "code",
      "source": [
        "def softmax(x):\n",
        "    e_x = np.exp(x - np.max(x, axis=-1, keepdims=True))\n",
        "    return e_x / e_x.sum(axis=-1, keepdims=True)"
      ],
      "metadata": {
        "id": "FKgliIKhRBZV"
      },
      "execution_count": null,
      "outputs": []
    },
    {
      "cell_type": "code",
      "source": [
        "scores = np.dot(Q, K.T) / np.sqrt(dk)\n",
        "attention_weights = softmax(scores)\n",
        "output = np.dot(attention_weights, V)\n",
        "\n",
        "print(\"Attention weights =\\n\", attention_weights)\n",
        "print(\"Self-Attention Output =\\n\", output)"
      ],
      "metadata": {
        "colab": {
          "base_uri": "https://localhost:8080/"
        },
        "id": "nT6stv9ZRFb4",
        "outputId": "b89c93a4-76bb-48de-cf37-2933d4bb6d94"
      },
      "execution_count": null,
      "outputs": [
        {
          "output_type": "stream",
          "name": "stdout",
          "text": [
            "Attention weights =\n",
            " [[0.3177811  0.3822653  0.29995359]\n",
            " [0.2995838  0.43350284 0.26691336]\n",
            " [0.33138854 0.33913068 0.32948078]]\n",
            "Self-Attention Output =\n",
            " [[0.45647162 0.44582152 1.17229779]\n",
            " [0.47993522 0.4934196  1.24666349]\n",
            " [0.43603383 0.40540839 1.10849414]]\n"
          ]
        }
      ]
    },
    {
      "cell_type": "markdown",
      "source": [
        "## 四、驗證q1、k1、v1是否與Q、K、V一致"
      ],
      "metadata": {
        "id": "-qUQVkQJRRDo"
      }
    },
    {
      "cell_type": "code",
      "source": [
        "# 單獨算\n",
        "q1 = np.dot(x1, WQ)\n",
        "k1 = np.dot(x1, WK)\n",
        "v1 = np.dot(x1, WV)\n",
        "\n",
        "print(\"q1 =\", q1)\n",
        "print(\"k1 =\", k1)\n",
        "print(\"v1 =\", v1)\n",
        "\n",
        "# 驗證是否等於 Q[0], K[0], V[0]\n",
        "print(\"Q[0] =\", Q[0])\n",
        "print(\"K[0] =\", K[0])\n",
        "print(\"V[0] =\", V[0])"
      ],
      "metadata": {
        "colab": {
          "base_uri": "https://localhost:8080/"
        },
        "id": "XLZEQjPuRL2E",
        "outputId": "440f7d12-9821-44e9-f6c9-4a2b5af3b786"
      },
      "execution_count": null,
      "outputs": [
        {
          "output_type": "stream",
          "name": "stdout",
          "text": [
            "q1 = [0.2 0.  0.4]\n",
            "k1 = [0.1 0.5 0.3]\n",
            "v1 = [0.5 0.2 1. ]\n",
            "Q[0] = [0.2 0.  0.4]\n",
            "K[0] = [0.1 0.5 0.3]\n",
            "V[0] = [0.5 0.2 1. ]\n"
          ]
        }
      ]
    }
  ]
}