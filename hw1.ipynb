{
  "nbformat": 4,
  "nbformat_minor": 0,
  "metadata": {
    "colab": {
      "provenance": [],
      "toc_visible": true,
      "authorship_tag": "ABX9TyMXr78kYk7hy1Qx4A0yJ9im",
      "include_colab_link": true
    },
    "kernelspec": {
      "name": "python3",
      "display_name": "Python 3"
    },
    "language_info": {
      "name": "python"
    }
  },
  "cells": [
    {
      "cell_type": "markdown",
      "metadata": {
        "id": "view-in-github",
        "colab_type": "text"
      },
      "source": [
        "<a href=\"https://colab.research.google.com/github/3B032013/2025_ML_hws/blob/main/hw1.ipynb\" target=\"_parent\"><img src=\"https://colab.research.google.com/assets/colab-badge.svg\" alt=\"Open In Colab\"/></a>"
      ]
    },
    {
      "cell_type": "markdown",
      "source": [
        "# 作業1 - (第四週)"
      ],
      "metadata": {
        "id": "OhnyZd0wC7qY"
      }
    },
    {
      "cell_type": "markdown",
      "source": [
        "## *題組1 模擬多隱藏層的全連接神經網路(DNN)"
      ],
      "metadata": {
        "id": "RZmUwItGTwaE"
      }
    },
    {
      "cell_type": "markdown",
      "source": [
        "## 1-1 各激活函數定義(Sigmoid、ReLU、Softmax)"
      ],
      "metadata": {
        "id": "FnfGjlToHFMq"
      }
    },
    {
      "cell_type": "code",
      "source": [
        "import numpy as np\n",
        "# Sigmoid激發函數\n",
        "def sigmoid(x):\n",
        "  return 1/(1+np.exp(-x))\n",
        "\n",
        "# ReLU激發函數\n",
        "def relu(x):\n",
        "  return np.maximum(0, x)\n",
        "\n",
        "# Softmax激發函數\n",
        "def softmax(x):\n",
        "  c=np.max(x)\n",
        "  x = x - c\n",
        "  return np.exp(x) / np.sum(np.exp(x))"
      ],
      "metadata": {
        "id": "8vDjc10dHPUC"
      },
      "execution_count": 8,
      "outputs": []
    },
    {
      "cell_type": "markdown",
      "source": [
        "## 1-2 輸入層設定6個神經元"
      ],
      "metadata": {
        "id": "pZZwWoySGrMU"
      }
    },
    {
      "cell_type": "code",
      "source": [
        "# 設定6個隨機原始資料 放入x中\n",
        "x=np.array([-3.0, -2.0, -1.0, 1.0, 2.0, 3.0])"
      ],
      "metadata": {
        "id": "a3JndmK6Guif"
      },
      "execution_count": 9,
      "outputs": []
    },
    {
      "cell_type": "markdown",
      "source": [
        "## 1-3 第一隱藏層有5個神經元 激發函數使用ReLU"
      ],
      "metadata": {
        "id": "NFu1wTn3G4s-"
      }
    },
    {
      "cell_type": "code",
      "source": [
        "W1=np.array([[0.1, 0.2, 0.3, 0.4, 0.5],\n",
        " [0.2, 0.3, 0.4, 0.5, 0.6],\n",
        " [0.3, 0.4, 0.5, 0.6, 0.7],\n",
        " [0.4, 0.5, 0.6, 0.7, 0.8],\n",
        " [0.5, 0.6, 0.7, 0.8, 0.9],\n",
        " [0.6, 0.7, 0.8, 0.9, 1.0]])\n",
        "b1=np.array([0.1, 0.2, 0.3, 0.4, 0.5])"
      ],
      "metadata": {
        "id": "UNyKQBk2Hv-X"
      },
      "execution_count": 10,
      "outputs": []
    },
    {
      "cell_type": "code",
      "source": [
        "z1 = np.dot(x, W1) + b1\n",
        "h1 = relu(z1)\n",
        "print(h1)"
      ],
      "metadata": {
        "colab": {
          "base_uri": "https://localhost:8080/"
        },
        "id": "RDEnaX5vLBJC",
        "outputId": "ed2f7f4c-f145-49a8-b3a4-be1775513726"
      },
      "execution_count": 11,
      "outputs": [
        {
          "output_type": "stream",
          "name": "stdout",
          "text": [
            "[2.3 2.4 2.5 2.6 2.7]\n"
          ]
        }
      ]
    },
    {
      "cell_type": "markdown",
      "source": [
        "## 1-4 第二隱藏層有4個神經元 激發函數使用ReLU"
      ],
      "metadata": {
        "id": "JCT0UnAfLssa"
      }
    },
    {
      "cell_type": "code",
      "source": [
        "W2=np.array([[0.2, 0.3, 0.4, 0.5],\n",
        " [0.3, 0.4, 0.5, 0.6],\n",
        " [0.4, 0.5, 0.6, 0.7],\n",
        " [0.5, 0.6, 0.7, 0.8],\n",
        " [0.6, 0.7, 0.8, 0.9]])\n",
        "b2=np.array([0.1, 0.2, 0.3, 0.4])"
      ],
      "metadata": {
        "id": "1jzChCKzL9wN"
      },
      "execution_count": 12,
      "outputs": []
    },
    {
      "cell_type": "code",
      "source": [
        "z2 = np.dot(h1, W2) + b2\n",
        "h2 = relu(z2)\n",
        "print(h2)"
      ],
      "metadata": {
        "colab": {
          "base_uri": "https://localhost:8080/"
        },
        "id": "PV_EP2deMjYE",
        "outputId": "fb96ff00-7ffe-43de-b8e4-cb778d74634f"
      },
      "execution_count": 13,
      "outputs": [
        {
          "output_type": "stream",
          "name": "stdout",
          "text": [
            "[5.2  6.55 7.9  9.25]\n"
          ]
        }
      ]
    },
    {
      "cell_type": "markdown",
      "source": [
        "## 1-5 第三隱藏層有4個神經元 激發函數使用sigmoid"
      ],
      "metadata": {
        "id": "mlSnV-bCNzWH"
      }
    },
    {
      "cell_type": "code",
      "source": [
        "W3=np.array([[0.3, 0.4, 0.5, 0.6],\n",
        " [0.4, 0.5, 0.6, 0.7],\n",
        " [0.5, 0.6, 0.7, 0.8],\n",
        " [0.6, 0.7, 0.8, 0.9]])\n",
        "b3=np.array([0.1, 0.2, 0.3, 0.4])"
      ],
      "metadata": {
        "id": "HVv2XTwkN5yS"
      },
      "execution_count": 14,
      "outputs": []
    },
    {
      "cell_type": "code",
      "source": [
        "z3 = np.dot(h2, W3) + b3\n",
        "h3 = sigmoid(z3)\n",
        "print(h3)"
      ],
      "metadata": {
        "colab": {
          "base_uri": "https://localhost:8080/"
        },
        "id": "O7LKDLsIOLPg",
        "outputId": "5f38a027-f5e6-4da4-bc01-cdf60f382ca5"
      },
      "execution_count": 15,
      "outputs": [
        {
          "output_type": "stream",
          "name": "stdout",
          "text": [
            "[0.99999896 0.99999995 1.         1.        ]\n"
          ]
        }
      ]
    },
    {
      "cell_type": "markdown",
      "source": [
        "## 1-6 輸出層需有3個神經元 激發函數使用softmax"
      ],
      "metadata": {
        "id": "oA5m2LLoOk7l"
      }
    },
    {
      "cell_type": "code",
      "source": [
        "W4=np.array([[0.4, 0.5, 0.6],\n",
        " [0.5, 0.6, 0.7],\n",
        " [0.6, 0.7, 0.8],\n",
        " [0.7, 0.8, 0.9]])\n",
        "b4=np.array([0.1, 0.2, 0.3])"
      ],
      "metadata": {
        "id": "OYc9Cm_lOu-f"
      },
      "execution_count": 16,
      "outputs": []
    },
    {
      "cell_type": "code",
      "source": [
        "z4 = np.dot(h3, W4) + b4\n",
        "y_hat = softmax(z4)\n",
        "# y_hat為最終計算的各項機率結果\n",
        "print(y_hat)"
      ],
      "metadata": {
        "colab": {
          "base_uri": "https://localhost:8080/"
        },
        "id": "-vy_bqyePBOV",
        "outputId": "e31485f4-0dab-4f62-ed29-b52d4e396acd"
      },
      "execution_count": 17,
      "outputs": [
        {
          "output_type": "stream",
          "name": "stdout",
          "text": [
            "[0.18632375 0.3071959  0.50648035]\n"
          ]
        }
      ]
    },
    {
      "cell_type": "markdown",
      "source": [
        "## 1-7 使用cross_entropy_error衡量y_hat與y之間的誤差值"
      ],
      "metadata": {
        "id": "nmpx6fi0PhSY"
      }
    },
    {
      "cell_type": "code",
      "source": [
        "def cross_entropy_error(y_hat, y):\n",
        "  return -np.sum(y * np.log(y_hat + 1e-7))"
      ],
      "metadata": {
        "id": "0Hit8I5DPpkt"
      },
      "execution_count": 18,
      "outputs": []
    },
    {
      "cell_type": "code",
      "source": [
        "# 假設第三種為真實結果\n",
        "y=[0, 0, 1]"
      ],
      "metadata": {
        "id": "M38uFUttP25G"
      },
      "execution_count": 19,
      "outputs": []
    },
    {
      "cell_type": "code",
      "source": [
        "np.log(y_hat + 1e-7)"
      ],
      "metadata": {
        "colab": {
          "base_uri": "https://localhost:8080/"
        },
        "id": "2WaTfcFlP75d",
        "outputId": "f0698a54-b8e3-4fcc-81de-35e4e1cba8ff"
      },
      "execution_count": 20,
      "outputs": [
        {
          "output_type": "execute_result",
          "data": {
            "text/plain": [
              "array([-1.68026899, -1.18026931, -0.68026955])"
            ]
          },
          "metadata": {},
          "execution_count": 20
        }
      ]
    },
    {
      "cell_type": "code",
      "source": [
        "y*np.log(y_hat + 1e-7)"
      ],
      "metadata": {
        "colab": {
          "base_uri": "https://localhost:8080/"
        },
        "id": "B12bBlc8P92b",
        "outputId": "38d74d73-7042-47ab-c15c-b057ebe837ac"
      },
      "execution_count": 21,
      "outputs": [
        {
          "output_type": "execute_result",
          "data": {
            "text/plain": [
              "array([-0.        , -0.        , -0.68026955])"
            ]
          },
          "metadata": {},
          "execution_count": 21
        }
      ]
    },
    {
      "cell_type": "code",
      "source": [
        "-np.sum(y * np.log(y_hat + 1e-7))"
      ],
      "metadata": {
        "colab": {
          "base_uri": "https://localhost:8080/"
        },
        "id": "KNDkPuw3P_n1",
        "outputId": "86351ec7-8c8b-4a84-f5b9-409fdbe594b7"
      },
      "execution_count": 22,
      "outputs": [
        {
          "output_type": "execute_result",
          "data": {
            "text/plain": [
              "0.6802695473719652"
            ]
          },
          "metadata": {},
          "execution_count": 22
        }
      ]
    },
    {
      "cell_type": "code",
      "source": [
        "cross_entropy_error(y_hat, y)"
      ],
      "metadata": {
        "colab": {
          "base_uri": "https://localhost:8080/"
        },
        "id": "Cv-SDzEqQA5m",
        "outputId": "2ed72960-b5e5-48a5-90a5-73a9221a23d9"
      },
      "execution_count": 23,
      "outputs": [
        {
          "output_type": "execute_result",
          "data": {
            "text/plain": [
              "0.6802695473719652"
            ]
          },
          "metadata": {},
          "execution_count": 23
        }
      ]
    },
    {
      "cell_type": "markdown",
      "source": [
        "## *題組2 設計dnn函數 搭配gradio套件"
      ],
      "metadata": {
        "id": "8UUidM_ETztl"
      }
    },
    {
      "cell_type": "code",
      "source": [
        "!pip install gradio"
      ],
      "metadata": {
        "colab": {
          "base_uri": "https://localhost:8080/"
        },
        "id": "k9Jt-xccWyhe",
        "outputId": "9c9e109a-8a66-41c1-c12a-c9f96c1aad44"
      },
      "execution_count": 24,
      "outputs": [
        {
          "output_type": "stream",
          "name": "stdout",
          "text": [
            "Requirement already satisfied: gradio in /usr/local/lib/python3.11/dist-packages (5.21.0)\n",
            "Requirement already satisfied: aiofiles<24.0,>=22.0 in /usr/local/lib/python3.11/dist-packages (from gradio) (23.2.1)\n",
            "Requirement already satisfied: anyio<5.0,>=3.0 in /usr/local/lib/python3.11/dist-packages (from gradio) (3.7.1)\n",
            "Requirement already satisfied: fastapi<1.0,>=0.115.2 in /usr/local/lib/python3.11/dist-packages (from gradio) (0.115.11)\n",
            "Requirement already satisfied: ffmpy in /usr/local/lib/python3.11/dist-packages (from gradio) (0.5.0)\n",
            "Requirement already satisfied: gradio-client==1.7.2 in /usr/local/lib/python3.11/dist-packages (from gradio) (1.7.2)\n",
            "Requirement already satisfied: groovy~=0.1 in /usr/local/lib/python3.11/dist-packages (from gradio) (0.1.2)\n",
            "Requirement already satisfied: httpx>=0.24.1 in /usr/local/lib/python3.11/dist-packages (from gradio) (0.28.1)\n",
            "Requirement already satisfied: huggingface-hub>=0.28.1 in /usr/local/lib/python3.11/dist-packages (from gradio) (0.28.1)\n",
            "Requirement already satisfied: jinja2<4.0 in /usr/local/lib/python3.11/dist-packages (from gradio) (3.1.6)\n",
            "Requirement already satisfied: markupsafe~=2.0 in /usr/local/lib/python3.11/dist-packages (from gradio) (2.1.5)\n",
            "Requirement already satisfied: numpy<3.0,>=1.0 in /usr/local/lib/python3.11/dist-packages (from gradio) (1.26.4)\n",
            "Requirement already satisfied: orjson~=3.0 in /usr/local/lib/python3.11/dist-packages (from gradio) (3.10.15)\n",
            "Requirement already satisfied: packaging in /usr/local/lib/python3.11/dist-packages (from gradio) (24.2)\n",
            "Requirement already satisfied: pandas<3.0,>=1.0 in /usr/local/lib/python3.11/dist-packages (from gradio) (2.2.2)\n",
            "Requirement already satisfied: pillow<12.0,>=8.0 in /usr/local/lib/python3.11/dist-packages (from gradio) (11.1.0)\n",
            "Requirement already satisfied: pydantic>=2.0 in /usr/local/lib/python3.11/dist-packages (from gradio) (2.10.6)\n",
            "Requirement already satisfied: pydub in /usr/local/lib/python3.11/dist-packages (from gradio) (0.25.1)\n",
            "Requirement already satisfied: python-multipart>=0.0.18 in /usr/local/lib/python3.11/dist-packages (from gradio) (0.0.20)\n",
            "Requirement already satisfied: pyyaml<7.0,>=5.0 in /usr/local/lib/python3.11/dist-packages (from gradio) (6.0.2)\n",
            "Requirement already satisfied: ruff>=0.9.3 in /usr/local/lib/python3.11/dist-packages (from gradio) (0.11.0)\n",
            "Requirement already satisfied: safehttpx<0.2.0,>=0.1.6 in /usr/local/lib/python3.11/dist-packages (from gradio) (0.1.6)\n",
            "Requirement already satisfied: semantic-version~=2.0 in /usr/local/lib/python3.11/dist-packages (from gradio) (2.10.0)\n",
            "Requirement already satisfied: starlette<1.0,>=0.40.0 in /usr/local/lib/python3.11/dist-packages (from gradio) (0.46.1)\n",
            "Requirement already satisfied: tomlkit<0.14.0,>=0.12.0 in /usr/local/lib/python3.11/dist-packages (from gradio) (0.13.2)\n",
            "Requirement already satisfied: typer<1.0,>=0.12 in /usr/local/lib/python3.11/dist-packages (from gradio) (0.15.2)\n",
            "Requirement already satisfied: typing-extensions~=4.0 in /usr/local/lib/python3.11/dist-packages (from gradio) (4.12.2)\n",
            "Requirement already satisfied: uvicorn>=0.14.0 in /usr/local/lib/python3.11/dist-packages (from gradio) (0.34.0)\n",
            "Requirement already satisfied: fsspec in /usr/local/lib/python3.11/dist-packages (from gradio-client==1.7.2->gradio) (2024.10.0)\n",
            "Requirement already satisfied: websockets<16.0,>=10.0 in /usr/local/lib/python3.11/dist-packages (from gradio-client==1.7.2->gradio) (14.2)\n",
            "Requirement already satisfied: idna>=2.8 in /usr/local/lib/python3.11/dist-packages (from anyio<5.0,>=3.0->gradio) (3.10)\n",
            "Requirement already satisfied: sniffio>=1.1 in /usr/local/lib/python3.11/dist-packages (from anyio<5.0,>=3.0->gradio) (1.3.1)\n",
            "Requirement already satisfied: certifi in /usr/local/lib/python3.11/dist-packages (from httpx>=0.24.1->gradio) (2025.1.31)\n",
            "Requirement already satisfied: httpcore==1.* in /usr/local/lib/python3.11/dist-packages (from httpx>=0.24.1->gradio) (1.0.7)\n",
            "Requirement already satisfied: h11<0.15,>=0.13 in /usr/local/lib/python3.11/dist-packages (from httpcore==1.*->httpx>=0.24.1->gradio) (0.14.0)\n",
            "Requirement already satisfied: filelock in /usr/local/lib/python3.11/dist-packages (from huggingface-hub>=0.28.1->gradio) (3.17.0)\n",
            "Requirement already satisfied: requests in /usr/local/lib/python3.11/dist-packages (from huggingface-hub>=0.28.1->gradio) (2.32.3)\n",
            "Requirement already satisfied: tqdm>=4.42.1 in /usr/local/lib/python3.11/dist-packages (from huggingface-hub>=0.28.1->gradio) (4.67.1)\n",
            "Requirement already satisfied: python-dateutil>=2.8.2 in /usr/local/lib/python3.11/dist-packages (from pandas<3.0,>=1.0->gradio) (2.8.2)\n",
            "Requirement already satisfied: pytz>=2020.1 in /usr/local/lib/python3.11/dist-packages (from pandas<3.0,>=1.0->gradio) (2025.1)\n",
            "Requirement already satisfied: tzdata>=2022.7 in /usr/local/lib/python3.11/dist-packages (from pandas<3.0,>=1.0->gradio) (2025.1)\n",
            "Requirement already satisfied: annotated-types>=0.6.0 in /usr/local/lib/python3.11/dist-packages (from pydantic>=2.0->gradio) (0.7.0)\n",
            "Requirement already satisfied: pydantic-core==2.27.2 in /usr/local/lib/python3.11/dist-packages (from pydantic>=2.0->gradio) (2.27.2)\n",
            "Requirement already satisfied: click>=8.0.0 in /usr/local/lib/python3.11/dist-packages (from typer<1.0,>=0.12->gradio) (8.1.8)\n",
            "Requirement already satisfied: shellingham>=1.3.0 in /usr/local/lib/python3.11/dist-packages (from typer<1.0,>=0.12->gradio) (1.5.4)\n",
            "Requirement already satisfied: rich>=10.11.0 in /usr/local/lib/python3.11/dist-packages (from typer<1.0,>=0.12->gradio) (13.9.4)\n",
            "Requirement already satisfied: six>=1.5 in /usr/local/lib/python3.11/dist-packages (from python-dateutil>=2.8.2->pandas<3.0,>=1.0->gradio) (1.17.0)\n",
            "Requirement already satisfied: markdown-it-py>=2.2.0 in /usr/local/lib/python3.11/dist-packages (from rich>=10.11.0->typer<1.0,>=0.12->gradio) (3.0.0)\n",
            "Requirement already satisfied: pygments<3.0.0,>=2.13.0 in /usr/local/lib/python3.11/dist-packages (from rich>=10.11.0->typer<1.0,>=0.12->gradio) (2.18.0)\n",
            "Requirement already satisfied: charset-normalizer<4,>=2 in /usr/local/lib/python3.11/dist-packages (from requests->huggingface-hub>=0.28.1->gradio) (3.4.1)\n",
            "Requirement already satisfied: urllib3<3,>=1.21.1 in /usr/local/lib/python3.11/dist-packages (from requests->huggingface-hub>=0.28.1->gradio) (2.3.0)\n",
            "Requirement already satisfied: mdurl~=0.1 in /usr/local/lib/python3.11/dist-packages (from markdown-it-py>=2.2.0->rich>=10.11.0->typer<1.0,>=0.12->gradio) (0.1.2)\n"
          ]
        }
      ]
    },
    {
      "cell_type": "code",
      "source": [
        "import numpy as np\n",
        "import gradio as gr\n",
        "def dnn(x):\n",
        "  # 第一隱藏層\n",
        "  W1=np.array([[0.1, 0.2, 0.3, 0.4, 0.5],\n",
        "    [0.2, 0.3, 0.4, 0.5, 0.6],\n",
        "    [0.3, 0.4, 0.5, 0.6, 0.7],\n",
        "    [0.4, 0.5, 0.6, 0.7, 0.8],\n",
        "    [0.5, 0.6, 0.7, 0.8, 0.9],\n",
        "    [0.6, 0.7, 0.8, 0.9, 1.0]])\n",
        "  b1=np.array([0.1, 0.2, 0.3, 0.4, 0.5])\n",
        "  z1 = np.dot(x, W1) + b1\n",
        "  h1 = relu(z1)\n",
        "\n",
        "  # 第二隱藏層\n",
        "  W2=np.array([[0.2, 0.3, 0.4, 0.5],\n",
        "    [0.3, 0.4, 0.5, 0.6],\n",
        "    [0.4, 0.5, 0.6, 0.7],\n",
        "    [0.5, 0.6, 0.7, 0.8],\n",
        "    [0.6, 0.7, 0.8, 0.9]])\n",
        "  b2=np.array([0.1, 0.2, 0.3, 0.4])\n",
        "  z2 = np.dot(h1, W2) + b2\n",
        "  h2 = relu(z2)\n",
        "\n",
        "  # 第三隱藏層\n",
        "  W3=np.array([[0.3, 0.4, 0.5, 0.6],\n",
        "    [0.4, 0.5, 0.6, 0.7],\n",
        "    [0.5, 0.6, 0.7, 0.8],\n",
        "    [0.6, 0.7, 0.8, 0.9]])\n",
        "  b3=np.array([0.1, 0.2, 0.3, 0.4])\n",
        "  z3 = np.dot(h2, W3) + b3\n",
        "  h3 = sigmoid(z3)\n",
        "\n",
        "  # 輸出層\n",
        "  W4=np.array([[0.4, 0.5, 0.6],\n",
        "    [0.5, 0.6, 0.7],\n",
        "    [0.6, 0.7, 0.8],\n",
        "    [0.7, 0.8, 0.9]])\n",
        "  b4=np.array([0.1, 0.2, 0.3])\n",
        "  z4 = np.dot(h3, W4) + b4\n",
        "  y_hat = softmax(z4)\n",
        "  # y_hat為最終計算的各項機率結果\n",
        "  return y_hat"
      ],
      "metadata": {
        "id": "-9e2XSeST0xl"
      },
      "execution_count": 34,
      "outputs": []
    },
    {
      "cell_type": "code",
      "source": [
        "x=np.array([-3.0, -2.0, -1.0, 1.0, 2.0, 3.0])\n",
        "y_hat = dnn(x)\n",
        "# 最終結果與前提一致\n",
        "print(y_hat)"
      ],
      "metadata": {
        "colab": {
          "base_uri": "https://localhost:8080/"
        },
        "id": "kTZVDg6nVtWa",
        "outputId": "10ae002d-e461-4f7d-8159-eef8281f6082"
      },
      "execution_count": 35,
      "outputs": [
        {
          "output_type": "stream",
          "name": "stdout",
          "text": [
            "[0.18632375 0.3071959  0.50648035]\n"
          ]
        }
      ]
    },
    {
      "cell_type": "code",
      "source": [
        "# 建立 Gradio 介面\n",
        "def classify_input(x1, x2, x3, x4, x5, x6):\n",
        "  x = np.array([x1, x2, x3, x4, x5, x6]).reshape(1, 6)  # 保證為1*6形狀\n",
        "  y_hat = dnn(x)\n",
        "  # 回傳機率最高之值(1、2、3)\n",
        "  return np.argmax(y_hat) + 1\n",
        "\n",
        "interface = gr.Interface(fn=classify_input,inputs=[gr.Number(label=f\"Feature {i}\") for i in range(1, 7)], outputs=\"text\", title=\"DNN Classifier\", description=\"輸入6個特徵值，模型將輸出機率最高的類別 (1, 2, 3)\")\n",
        "\n",
        "# 啟動介面\n",
        "interface.launch()"
      ],
      "metadata": {
        "colab": {
          "base_uri": "https://localhost:8080/",
          "height": 646
        },
        "id": "OxjgNgtUWGyI",
        "outputId": "fec61b28-f77f-4570-ed66-22986a2fd815"
      },
      "execution_count": 38,
      "outputs": [
        {
          "output_type": "stream",
          "name": "stdout",
          "text": [
            "Running Gradio in a Colab notebook requires sharing enabled. Automatically setting `share=True` (you can turn this off by setting `share=False` in `launch()` explicitly).\n",
            "\n",
            "Colab notebook detected. To show errors in colab notebook, set debug=True in launch()\n",
            "* Running on public URL: https://00f9cb83972ae776d7.gradio.live\n",
            "\n",
            "This share link expires in 72 hours. For free permanent hosting and GPU upgrades, run `gradio deploy` from the terminal in the working directory to deploy to Hugging Face Spaces (https://huggingface.co/spaces)\n"
          ]
        },
        {
          "output_type": "display_data",
          "data": {
            "text/plain": [
              "<IPython.core.display.HTML object>"
            ],
            "text/html": [
              "<div><iframe src=\"https://00f9cb83972ae776d7.gradio.live\" width=\"100%\" height=\"500\" allow=\"autoplay; camera; microphone; clipboard-read; clipboard-write;\" frameborder=\"0\" allowfullscreen></iframe></div>"
            ]
          },
          "metadata": {}
        },
        {
          "output_type": "execute_result",
          "data": {
            "text/plain": []
          },
          "metadata": {},
          "execution_count": 38
        }
      ]
    }
  ]
}